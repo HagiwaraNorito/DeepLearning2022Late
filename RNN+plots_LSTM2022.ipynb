{
  "nbformat": 4,
  "nbformat_minor": 0,
  "metadata": {
    "colab": {
      "provenance": [],
      "authorship_tag": "ABX9TyP53e7t/QhIStxAduQb3pi2",
      "include_colab_link": true
    },
    "kernelspec": {
      "name": "python3",
      "display_name": "Python 3"
    },
    "language_info": {
      "name": "python"
    }
  },
  "cells": [
    {
      "cell_type": "markdown",
      "metadata": {
        "id": "view-in-github",
        "colab_type": "text"
      },
      "source": [
        "<a href=\"https://colab.research.google.com/github/HagiwaraNorito/DeepLearning2022Late/blob/main/RNN%2Bplots_LSTM2022.ipynb\" target=\"_parent\"><img src=\"https://colab.research.google.com/assets/colab-badge.svg\" alt=\"Open In Colab\"/></a>"
      ]
    },
    {
      "cell_type": "markdown",
      "source": [
        "#LSTMをつかったRNNの実装"
      ],
      "metadata": {
        "id": "6ERqDfH0kU2R"
      }
    },
    {
      "cell_type": "code",
      "execution_count": null,
      "metadata": {
        "id": "KsLTlg6FjxpX"
      },
      "outputs": [],
      "source": [
        "from keras.models import Model\n",
        "from keras.layers import Input,LSTM"
      ]
    },
    {
      "cell_type": "code",
      "source": [
        "from IPython.display import SVG\n",
        "from keras.utils.vis_utils import model_to_dot"
      ],
      "metadata": {
        "id": "yOQXBnXlkfKJ"
      },
      "execution_count": null,
      "outputs": []
    },
    {
      "cell_type": "code",
      "source": [
        "units=10\n",
        "time_steps = 5\n",
        "input_dim=15\n",
        "input_shape = (time_steps,input_dim)\n",
        "\n"
      ],
      "metadata": {
        "id": "P5GTBLKpk2sh"
      },
      "execution_count": null,
      "outputs": []
    },
    {
      "cell_type": "code",
      "source": [
        "x=Input(shape=input_shape,name='Input')\n",
        "y=LSTM(units=units,activation='sigmoid',name='LMTM_1')(x)\n",
        "model=Model(inputs=[x],outputs=[y])\n"
      ],
      "metadata": {
        "id": "q1mlkYfqln-V"
      },
      "execution_count": null,
      "outputs": []
    },
    {
      "cell_type": "code",
      "source": [
        "SVG(model_to_dot(model,show_shapes=True,dpi=None)\n",
        ".create(prog='dot',format='svg'))"
      ],
      "metadata": {
        "colab": {
          "base_uri": "https://localhost:8080/",
          "height": 206
        },
        "id": "Ty0HGvPfmbBV",
        "outputId": "fe98fa48-9d88-47dd-ee42-85e92808cdc1"
      },
      "execution_count": null,
      "outputs": [
        {
          "output_type": "execute_result",
          "data": {
            "text/plain": [
              "<IPython.core.display.SVG object>"
            ],
            "image/svg+xml": "<svg xmlns=\"http://www.w3.org/2000/svg\" xmlns:xlink=\"http://www.w3.org/1999/xlink\" width=\"322pt\" height=\"138pt\" viewBox=\"0.00 0.00 322.00 138.00\">\n<g id=\"graph0\" class=\"graph\" transform=\"scale(1 1) rotate(0) translate(4 134)\">\n<title>G</title>\n<polygon fill=\"#ffffff\" stroke=\"transparent\" points=\"-4,4 -4,-134 318,-134 318,4 -4,4\"/>\n<!-- dpi -->\n<g id=\"node1\" class=\"node\">\n<title>dpi</title>\n<ellipse fill=\"none\" stroke=\"#000000\" cx=\"27\" cy=\"-106.5\" rx=\"27\" ry=\"18\"/>\n<text text-anchor=\"middle\" x=\"27\" y=\"-102.8\" font-family=\"Times,serif\" font-size=\"14.00\" fill=\"#000000\">dpi</text>\n</g>\n<!-- 139816128840896 -->\n<g id=\"node2\" class=\"node\">\n<title>139816128840896</title>\n<polygon fill=\"none\" stroke=\"#000000\" points=\"72,-83.5 72,-129.5 314,-129.5 314,-83.5 72,-83.5\"/>\n<text text-anchor=\"middle\" x=\"112\" y=\"-114.3\" font-family=\"Times,serif\" font-size=\"14.00\" fill=\"#000000\">Input</text>\n<polyline fill=\"none\" stroke=\"#000000\" points=\"72,-106.5 152,-106.5 \"/>\n<text text-anchor=\"middle\" x=\"112\" y=\"-91.3\" font-family=\"Times,serif\" font-size=\"14.00\" fill=\"#000000\">InputLayer</text>\n<polyline fill=\"none\" stroke=\"#000000\" points=\"152,-83.5 152,-129.5 \"/>\n<text text-anchor=\"middle\" x=\"181\" y=\"-114.3\" font-family=\"Times,serif\" font-size=\"14.00\" fill=\"#000000\">input:</text>\n<polyline fill=\"none\" stroke=\"#000000\" points=\"152,-106.5 210,-106.5 \"/>\n<text text-anchor=\"middle\" x=\"181\" y=\"-91.3\" font-family=\"Times,serif\" font-size=\"14.00\" fill=\"#000000\">output:</text>\n<polyline fill=\"none\" stroke=\"#000000\" points=\"210,-83.5 210,-129.5 \"/>\n<text text-anchor=\"middle\" x=\"262\" y=\"-114.3\" font-family=\"Times,serif\" font-size=\"14.00\" fill=\"#000000\">[(None, 5, 15)]</text>\n<polyline fill=\"none\" stroke=\"#000000\" points=\"210,-106.5 314,-106.5 \"/>\n<text text-anchor=\"middle\" x=\"262\" y=\"-91.3\" font-family=\"Times,serif\" font-size=\"14.00\" fill=\"#000000\">[(None, 5, 15)]</text>\n</g>\n<!-- 139816128841328 -->\n<g id=\"node3\" class=\"node\">\n<title>139816128841328</title>\n<polygon fill=\"none\" stroke=\"#000000\" points=\"79,-.5 79,-46.5 307,-46.5 307,-.5 79,-.5\"/>\n<text text-anchor=\"middle\" x=\"116.5\" y=\"-31.3\" font-family=\"Times,serif\" font-size=\"14.00\" fill=\"#000000\">LMTM_1</text>\n<polyline fill=\"none\" stroke=\"#000000\" points=\"79,-23.5 154,-23.5 \"/>\n<text text-anchor=\"middle\" x=\"116.5\" y=\"-8.3\" font-family=\"Times,serif\" font-size=\"14.00\" fill=\"#000000\">LSTM</text>\n<polyline fill=\"none\" stroke=\"#000000\" points=\"154,-.5 154,-46.5 \"/>\n<text text-anchor=\"middle\" x=\"183\" y=\"-31.3\" font-family=\"Times,serif\" font-size=\"14.00\" fill=\"#000000\">input:</text>\n<polyline fill=\"none\" stroke=\"#000000\" points=\"154,-23.5 212,-23.5 \"/>\n<text text-anchor=\"middle\" x=\"183\" y=\"-8.3\" font-family=\"Times,serif\" font-size=\"14.00\" fill=\"#000000\">output:</text>\n<polyline fill=\"none\" stroke=\"#000000\" points=\"212,-.5 212,-46.5 \"/>\n<text text-anchor=\"middle\" x=\"259.5\" y=\"-31.3\" font-family=\"Times,serif\" font-size=\"14.00\" fill=\"#000000\">(None, 5, 15)</text>\n<polyline fill=\"none\" stroke=\"#000000\" points=\"212,-23.5 307,-23.5 \"/>\n<text text-anchor=\"middle\" x=\"259.5\" y=\"-8.3\" font-family=\"Times,serif\" font-size=\"14.00\" fill=\"#000000\">(None, 10)</text>\n</g>\n<!-- 139816128840896&#45;&gt;139816128841328 -->\n<g id=\"edge1\" class=\"edge\">\n<title>139816128840896-&gt;139816128841328</title>\n<path fill=\"none\" stroke=\"#000000\" d=\"M193,-83.3799C193,-75.1745 193,-65.7679 193,-56.8786\"/>\n<polygon fill=\"#000000\" stroke=\"#000000\" points=\"196.5001,-56.784 193,-46.784 189.5001,-56.784 196.5001,-56.784\"/>\n</g>\n</g>\n</svg>"
          },
          "metadata": {},
          "execution_count": 8
        }
      ]
    },
    {
      "cell_type": "code",
      "source": [],
      "metadata": {
        "id": "o4xb6S46mupu"
      },
      "execution_count": null,
      "outputs": []
    }
  ]
}