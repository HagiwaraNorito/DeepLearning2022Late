{
  "nbformat": 4,
  "nbformat_minor": 0,
  "metadata": {
    "colab": {
      "provenance": [],
      "authorship_tag": "ABX9TyPqsyRIgOFXYHFK7m7wcfNS",
      "include_colab_link": true
    },
    "kernelspec": {
      "name": "python3",
      "display_name": "Python 3"
    },
    "language_info": {
      "name": "python"
    }
  },
  "cells": [
    {
      "cell_type": "markdown",
      "metadata": {
        "id": "view-in-github",
        "colab_type": "text"
      },
      "source": [
        "<a href=\"https://colab.research.google.com/github/HagiwaraNorito/DeepLearning2022Late/blob/main/%E3%83%86%E3%82%B9%E3%83%880913_1.ipynb\" target=\"_parent\"><img src=\"https://colab.research.google.com/assets/colab-badge.svg\" alt=\"Open In Colab\"/></a>"
      ]
    },
    {
      "cell_type": "markdown",
      "source": [
        "#リスト型とタプル型\n",
        "##リストとタプル\n"
      ],
      "metadata": {
        "id": "izUSgv8iUorR"
      }
    },
    {
      "cell_type": "code",
      "execution_count": 1,
      "metadata": {
        "colab": {
          "base_uri": "https://localhost:8080/"
        },
        "id": "lv-0m_c9Uczn",
        "outputId": "d01cd02e-231b-4838-c352-d00bca5f0f58"
      },
      "outputs": [
        {
          "output_type": "stream",
          "name": "stdout",
          "text": [
            "['アップル', 'ペン', 'ペン', 'パイナップル']\n",
            "ペンペン\n"
          ]
        }
      ],
      "source": [
        "# リスト\n",
        "list=['アップル','ペン','ペン','パイナップル']\n",
        "print(list)\n",
        "print(list[1]+list[2])"
      ]
    },
    {
      "cell_type": "code",
      "source": [
        "#　タプル\n",
        "tuple=('アップル','ペン','ペン','パイナップル')\n",
        "print(tuple)\n",
        "print(tuple[1]+tuple[2])"
      ],
      "metadata": {
        "colab": {
          "base_uri": "https://localhost:8080/"
        },
        "id": "WTblW8eIWg51",
        "outputId": "3a38c647-1c89-47a3-d2bd-30b78e563cb4"
      },
      "execution_count": 2,
      "outputs": [
        {
          "output_type": "stream",
          "name": "stdout",
          "text": [
            "('アップル', 'ペン', 'ペン', 'パイナップル')\n",
            "ペンペン\n"
          ]
        }
      ]
    },
    {
      "cell_type": "markdown",
      "source": [
        "##構成を変更できるのはリスト\n",
        "##構成を変更出来ない（固定）はタプル"
      ],
      "metadata": {
        "id": "sYPu3bpRYVBH"
      }
    },
    {
      "cell_type": "code",
      "source": [
        "print(list)\n",
        "list.append(100)\n",
        "print(list)\n",
        "del list[2]\n",
        "print(list)\n",
        "list[3]='ペン'\n",
        "print(list)\n",
        "list.insert(2,'ペン')\n",
        "print(list)"
      ],
      "metadata": {
        "id": "Uj7oOv40W8Ax",
        "colab": {
          "base_uri": "https://localhost:8080/"
        },
        "outputId": "b4820559-a242-4d34-c519-77db6effe16c"
      },
      "execution_count": 3,
      "outputs": [
        {
          "output_type": "stream",
          "name": "stdout",
          "text": [
            "['アップル', 'ペン', 'ペン', 'パイナップル']\n",
            "['アップル', 'ペン', 'ペン', 'パイナップル', 100]\n",
            "['アップル', 'ペン', 'パイナップル', 100]\n",
            "['アップル', 'ペン', 'パイナップル', 'ペン']\n",
            "['アップル', 'ペン', 'ペン', 'パイナップル', 'ペン']\n"
          ]
        }
      ]
    },
    {
      "cell_type": "markdown",
      "source": [
        "##リストやタプルの長さの取得"
      ],
      "metadata": {
        "id": "Xgznyl_BbUy3"
      }
    },
    {
      "cell_type": "code",
      "source": [
        "print(list)\n",
        "print(len(list))"
      ],
      "metadata": {
        "colab": {
          "base_uri": "https://localhost:8080/"
        },
        "id": "LKeRXgFJYR2y",
        "outputId": "30ab25b1-5581-477c-d10c-6d0f825634d9"
      },
      "execution_count": 4,
      "outputs": [
        {
          "output_type": "stream",
          "name": "stdout",
          "text": [
            "['アップル', 'ペン', 'ペン', 'パイナップル', 'ペン']\n",
            "5\n"
          ]
        }
      ]
    },
    {
      "cell_type": "markdown",
      "source": [
        "##スライス\n",
        "##データを抽出する（データを一部とりだす）"
      ],
      "metadata": {
        "id": "47kj6CQMb30y"
      }
    },
    {
      "cell_type": "code",
      "source": [
        "print(list)\n",
        "print(list[1])\n",
        "print(list[1:3])\n",
        "print(list[1:])"
      ],
      "metadata": {
        "colab": {
          "base_uri": "https://localhost:8080/"
        },
        "id": "tgiWL7vfcH9K",
        "outputId": "31826416-12c6-4cd0-bcba-71a4f59ad7c4"
      },
      "execution_count": 6,
      "outputs": [
        {
          "output_type": "stream",
          "name": "stdout",
          "text": [
            "['アップル', 'ペン', 'ペン', 'パイナップル', 'ペン']\n",
            "ペン\n",
            "['ペン', 'ペン']\n",
            "['ペン', 'ペン', 'パイナップル', 'ペン']\n"
          ]
        }
      ]
    },
    {
      "cell_type": "markdown",
      "source": [
        "## SET型（集合型）\n",
        "集合型SETは、順番を持たない。重複したデータも持たない"
      ],
      "metadata": {
        "id": "UiEGzCXKfEiS"
      }
    },
    {
      "cell_type": "code",
      "source": [
        "# uniqという名前のset型変数\n",
        "uniq=set(['アップル','ペン','ペン','パイナップル'])\n",
        "print(uniq)"
      ],
      "metadata": {
        "colab": {
          "base_uri": "https://localhost:8080/"
        },
        "id": "kQmyYHrodJXa",
        "outputId": "463aa0bd-0da0-4025-8d2b-4a8d0d014b87"
      },
      "execution_count": 7,
      "outputs": [
        {
          "output_type": "stream",
          "name": "stdout",
          "text": [
            "{'アップル', 'ペン', 'パイナップル'}\n"
          ]
        }
      ]
    },
    {
      "cell_type": "markdown",
      "source": [
        "##集合型の追加変更削除"
      ],
      "metadata": {
        "id": "A6vH2eX3hKdm"
      }
    },
    {
      "cell_type": "code",
      "source": [
        "print(uniq)\n",
        "uniq.add('バナナ')\n",
        "uniq.remove('ペン')\n",
        "print(uniq)"
      ],
      "metadata": {
        "colab": {
          "base_uri": "https://localhost:8080/"
        },
        "id": "wOYHYTywhJrh",
        "outputId": "fed5df5d-5c51-4148-a2be-54a720ce0ed6"
      },
      "execution_count": 8,
      "outputs": [
        {
          "output_type": "stream",
          "name": "stdout",
          "text": [
            "{'アップル', 'ペン', 'パイナップル'}\n",
            "{'アップル', 'バナナ', 'パイナップル'}\n"
          ]
        }
      ]
    },
    {
      "cell_type": "markdown",
      "source": [
        "####集合演算\n",
        "包括、積、和、差分"
      ],
      "metadata": {
        "id": "Spu-67PxiQwt"
      }
    },
    {
      "cell_type": "code",
      "source": [
        "uniq=set(['アップル','ペン','ペン','パイナップル'])\n",
        "a=set(['アップル','ペン'])\n",
        "b=set(['ペン','パイナップル'])\n",
        "print(uniq)\n",
        "print(a)\n",
        "print(b)\n",
        "'ペン' in b\n",
        "'ペン' in a\n",
        "\n"
      ],
      "metadata": {
        "colab": {
          "base_uri": "https://localhost:8080/"
        },
        "id": "9jBlzXrAiOEu",
        "outputId": "589ea76f-3856-4c57-b1ef-a92713ec315b"
      },
      "execution_count": 12,
      "outputs": [
        {
          "output_type": "stream",
          "name": "stdout",
          "text": [
            "{'アップル', 'ペン', 'パイナップル'}\n",
            "{'アップル', 'ペン'}\n",
            "{'ペン', 'パイナップル'}\n"
          ]
        },
        {
          "output_type": "execute_result",
          "data": {
            "text/plain": [
              "True"
            ]
          },
          "metadata": {},
          "execution_count": 12
        }
      ]
    },
    {
      "cell_type": "code",
      "source": [
        "print(a)\n",
        "print(b)\n",
        "print(a.intersection(b))\n",
        "a.union(b)\n"
      ],
      "metadata": {
        "id": "hN9DXDl_ji3S"
      },
      "execution_count": null,
      "outputs": []
    }
  ]
}