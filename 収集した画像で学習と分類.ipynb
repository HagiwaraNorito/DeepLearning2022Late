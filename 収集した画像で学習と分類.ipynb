{
  "nbformat": 4,
  "nbformat_minor": 0,
  "metadata": {
    "colab": {
      "provenance": [],
      "authorship_tag": "ABX9TyP2vcGZHwbwK662G0jSufzX",
      "include_colab_link": true
    },
    "kernelspec": {
      "name": "python3",
      "display_name": "Python 3"
    },
    "language_info": {
      "name": "python"
    },
    "accelerator": "GPU",
    "gpuClass": "standard"
  },
  "cells": [
    {
      "cell_type": "markdown",
      "metadata": {
        "id": "view-in-github",
        "colab_type": "text"
      },
      "source": [
        "<a href=\"https://colab.research.google.com/github/HagiwaraNorito/DeepLearning2022Late/blob/main/%E5%8F%8E%E9%9B%86%E3%81%97%E3%81%9F%E7%94%BB%E5%83%8F%E3%81%A7%E5%AD%A6%E7%BF%92%E3%81%A8%E5%88%86%E9%A1%9E.ipynb\" target=\"_parent\"><img src=\"https://colab.research.google.com/assets/colab-badge.svg\" alt=\"Open In Colab\"/></a>"
      ]
    },
    {
      "cell_type": "markdown",
      "source": [
        "#収集した画像をColabにUPして学習して、それをもとに分類させる"
      ],
      "metadata": {
        "id": "QYuliaxWWQkJ"
      }
    },
    {
      "cell_type": "markdown",
      "source": [
        "##ファイルのフォルダを準備する"
      ],
      "metadata": {
        "id": "ws-_LTnOWQ3c"
      }
    },
    {
      "cell_type": "code",
      "execution_count": 26,
      "metadata": {
        "id": "pXQ0uHEHVg_h"
      },
      "outputs": [],
      "source": [
        "import os\n",
        "os.makedirs('sample',exist_ok=True)\n",
        "os.makedirs('ourput/dog/sample',exist_ok=True)\n",
        "os.makedirs('ourput/cat/sample',exist_ok=True)\n",
        "os.makedirs('img/deep_leraning/dog',exist_ok=True)\n",
        "os.makedirs('img/deep_leraning/cat',exist_ok=True)"
      ]
    },
    {
      "cell_type": "markdown",
      "source": [
        "##必要なライブラリをimport"
      ],
      "metadata": {
        "id": "IgjxNI35YnhU"
      }
    },
    {
      "cell_type": "code",
      "source": [
        "import cv2\n",
        "import numpy as np\n",
        "import glob as glob\n",
        "from sklearn.model_selection import train_test_split\n",
        "from keras.utils import np_utils"
      ],
      "metadata": {
        "id": "SzhURUfsXjbi"
      },
      "execution_count": 27,
      "outputs": []
    },
    {
      "cell_type": "markdown",
      "source": [
        "##分類（クラス）の名前をフォルダ名（dog,cat）から引用する"
      ],
      "metadata": {
        "id": "gVgXqonpZvVC"
      }
    },
    {
      "cell_type": "code",
      "source": [
        "path = \"img/deep_leraning\"\n",
        "folders=os.listdir(path)\n",
        "classes=[f for f in folders if os.path.isdir(os.path.join(path,f))]\n",
        "print(classes)\n",
        "n_classes=len(classes)\n",
        "print(n_classes)"
      ],
      "metadata": {
        "colab": {
          "base_uri": "https://localhost:8080/"
        },
        "id": "xIVHMoRdZukQ",
        "outputId": "5a58a4f7-2636-42db-d9e0-5af4206929b6"
      },
      "execution_count": 28,
      "outputs": [
        {
          "output_type": "stream",
          "name": "stdout",
          "text": [
            "['dog', 'cat']\n",
            "2\n"
          ]
        }
      ]
    },
    {
      "cell_type": "markdown",
      "source": [
        "##画像読み込みリサイズ、整形する"
      ],
      "metadata": {
        "id": "5737v0Bt9bC-"
      }
    },
    {
      "cell_type": "code",
      "source": [
        "#画像とラベルのための配列\n",
        "X=[]#画像\n",
        "Y=[]#ラベル\n",
        "\n",
        "#画像を読み込みつつリサイズする\n",
        "for label,class_name in enumerate(classes):\n",
        "  files = glob.glob(path + \"/\" + class_name + \"/*jpg\")\n",
        "  for file in files:\n",
        "    img=cv2.imread(file)\n",
        "    img=cv2.resize(img,dsize=(224,224))\n",
        "    X.append(img)\n",
        "    Y.append(label)\n"
      ],
      "metadata": {
        "id": "S4zm-lKpaqgu"
      },
      "execution_count": 29,
      "outputs": []
    },
    {
      "cell_type": "markdown",
      "source": [
        "##0～255のビットデータ値を、学習のために0～1に変換（正規化）学習精度を上げる"
      ],
      "metadata": {
        "id": "PXtvCCp0FVIn"
      }
    },
    {
      "cell_type": "code",
      "source": [
        "X=np.array(X)\n",
        "X=X.astype('float32')\n",
        "X /=255.0\n",
        "#ラベルもnumpyの配列に変換\n",
        "Y=np.array(Y)\n",
        "Y=np_utils.to_categorical(Y,n_classes)"
      ],
      "metadata": {
        "id": "Mn4sdICLEOIU"
      },
      "execution_count": 30,
      "outputs": []
    },
    {
      "cell_type": "markdown",
      "source": [
        "##整形したデータを学習用とテスト検証用に振り分ける"
      ],
      "metadata": {
        "id": "93k7iVnvGe6I"
      }
    },
    {
      "cell_type": "code",
      "source": [
        "#学習データ8割、テスト検証用が2割に分ける\n",
        "X_train,X_test,Y_train,Y_test=train_test_split(X,Y,test_size=0.2)\n",
        "#学習データが8割\n",
        "print(X_train.shape)\n",
        "#テストでーた2割\n",
        "print(X_test.shape)\n",
        "#学習性データ8割（正解）\n",
        "print(Y_train.shape)\n",
        "#テストデータ2割(正解)\n",
        "print(Y_test.shape)"
      ],
      "metadata": {
        "colab": {
          "base_uri": "https://localhost:8080/"
        },
        "id": "5PoPvMxMGeJx",
        "outputId": "a02aca2e-be6a-4490-a2fb-2e345efa6a7f"
      },
      "execution_count": 31,
      "outputs": [
        {
          "output_type": "stream",
          "name": "stdout",
          "text": [
            "(119, 224, 224, 3)\n",
            "(30, 224, 224, 3)\n",
            "(119, 2)\n",
            "(30, 2)\n"
          ]
        }
      ]
    },
    {
      "cell_type": "markdown",
      "source": [
        "#準備したデータを学習させていく"
      ],
      "metadata": {
        "id": "8OGQ3lRjLXTK"
      }
    },
    {
      "cell_type": "markdown",
      "source": [
        "##学習に必要なライブラリをimport"
      ],
      "metadata": {
        "id": "fAKazPpDLc6y"
      }
    },
    {
      "cell_type": "code",
      "source": [
        "from keras.applications.vgg16 import VGG16\n",
        "from keras.models import Sequential\n",
        "from keras.models import Model\n",
        "from keras.layers import Input,Activation,Dense,Flatten,Dropout\n",
        "from keras.optimizers import Adam"
      ],
      "metadata": {
        "id": "hGnKg3P7Io5L"
      },
      "execution_count": 32,
      "outputs": []
    },
    {
      "cell_type": "markdown",
      "source": [
        "##モデルのVGG16をアレンジしていく"
      ],
      "metadata": {
        "id": "Ql6vhLHIUZim"
      }
    },
    {
      "cell_type": "code",
      "source": [
        "#VGG16　入力層を用意する\n",
        "input_tensor=Input(shape=(224,224,3))\n",
        "#VGG16のインスタンスを作る(最後のsoftmaxの1000層を無効にして省く  )\n",
        "base_model=VGG16(weights='imagenet',input_tensor=input_tensor,include_top=False)\n"
      ],
      "metadata": {
        "id": "axrhPhKTMhBc"
      },
      "execution_count": 33,
      "outputs": []
    },
    {
      "cell_type": "code",
      "source": [
        "top_model=Sequential()\n",
        "top_model.add(Flatten(input_shape=base_model.output_shape[1:]))\n",
        "top_model.add(Dense(n_classes,activation='softmax'))"
      ],
      "metadata": {
        "id": "pi4arIkbXxW7"
      },
      "execution_count": 34,
      "outputs": []
    },
    {
      "cell_type": "markdown",
      "source": [
        "##最後のSOFTMAXを外したモデル（base_model）と追加用の2つに分類するSOFTMAX層のモデルに（top_model）つなげる"
      ],
      "metadata": {
        "id": "HZ3Ng_uTaorq"
      }
    },
    {
      "cell_type": "code",
      "source": [
        "model=Model(inputs=base_model.input,outputs=top_model(base_model.output))"
      ],
      "metadata": {
        "id": "7Ceb0UemYzVU"
      },
      "execution_count": 35,
      "outputs": []
    },
    {
      "cell_type": "code",
      "source": [
        "for layer in model.layers[:15]:\n",
        "  layer.trainable=False\n",
        "print('# laers=',len(model.layers))"
      ],
      "metadata": {
        "colab": {
          "base_uri": "https://localhost:8080/"
        },
        "id": "e7Su_znYcrpQ",
        "outputId": "37659f27-f278-4a06-f09d-0a12eeaf376b"
      },
      "execution_count": 36,
      "outputs": [
        {
          "output_type": "stream",
          "name": "stdout",
          "text": [
            "# laers= 20\n"
          ]
        }
      ]
    },
    {
      "cell_type": "code",
      "source": [
        "#損失はクロスエントロピー法で算出、最適化はADAM、指標は精度で見る\n",
        "model.compile(loss='categorical_crossentropy',\n",
        "              optimizer='adam',\n",
        "              metrics=['accuracy'])"
      ],
      "metadata": {
        "id": "OnIg67TwdwQa"
      },
      "execution_count": 37,
      "outputs": []
    },
    {
      "cell_type": "markdown",
      "source": [
        "###コンパイルしたモデルを表示"
      ],
      "metadata": {
        "id": "YibftxR5eSbz"
      }
    },
    {
      "cell_type": "code",
      "source": [
        "model.summary()"
      ],
      "metadata": {
        "colab": {
          "base_uri": "https://localhost:8080/"
        },
        "id": "KzEPVr6jePTj",
        "outputId": "fce1f168-12f0-41d5-91e8-8bd62c434d64"
      },
      "execution_count": 38,
      "outputs": [
        {
          "output_type": "stream",
          "name": "stdout",
          "text": [
            "Model: \"model_1\"\n",
            "_________________________________________________________________\n",
            " Layer (type)                Output Shape              Param #   \n",
            "=================================================================\n",
            " input_2 (InputLayer)        [(None, 224, 224, 3)]     0         \n",
            "                                                                 \n",
            " block1_conv1 (Conv2D)       (None, 224, 224, 64)      1792      \n",
            "                                                                 \n",
            " block1_conv2 (Conv2D)       (None, 224, 224, 64)      36928     \n",
            "                                                                 \n",
            " block1_pool (MaxPooling2D)  (None, 112, 112, 64)      0         \n",
            "                                                                 \n",
            " block2_conv1 (Conv2D)       (None, 112, 112, 128)     73856     \n",
            "                                                                 \n",
            " block2_conv2 (Conv2D)       (None, 112, 112, 128)     147584    \n",
            "                                                                 \n",
            " block2_pool (MaxPooling2D)  (None, 56, 56, 128)       0         \n",
            "                                                                 \n",
            " block3_conv1 (Conv2D)       (None, 56, 56, 256)       295168    \n",
            "                                                                 \n",
            " block3_conv2 (Conv2D)       (None, 56, 56, 256)       590080    \n",
            "                                                                 \n",
            " block3_conv3 (Conv2D)       (None, 56, 56, 256)       590080    \n",
            "                                                                 \n",
            " block3_pool (MaxPooling2D)  (None, 28, 28, 256)       0         \n",
            "                                                                 \n",
            " block4_conv1 (Conv2D)       (None, 28, 28, 512)       1180160   \n",
            "                                                                 \n",
            " block4_conv2 (Conv2D)       (None, 28, 28, 512)       2359808   \n",
            "                                                                 \n",
            " block4_conv3 (Conv2D)       (None, 28, 28, 512)       2359808   \n",
            "                                                                 \n",
            " block4_pool (MaxPooling2D)  (None, 14, 14, 512)       0         \n",
            "                                                                 \n",
            " block5_conv1 (Conv2D)       (None, 14, 14, 512)       2359808   \n",
            "                                                                 \n",
            " block5_conv2 (Conv2D)       (None, 14, 14, 512)       2359808   \n",
            "                                                                 \n",
            " block5_conv3 (Conv2D)       (None, 14, 14, 512)       2359808   \n",
            "                                                                 \n",
            " block5_pool (MaxPooling2D)  (None, 7, 7, 512)         0         \n",
            "                                                                 \n",
            " sequential_1 (Sequential)   (None, 2)                 50178     \n",
            "                                                                 \n",
            "=================================================================\n",
            "Total params: 14,764,866\n",
            "Trainable params: 7,129,602\n",
            "Non-trainable params: 7,635,264\n",
            "_________________________________________________________________\n"
          ]
        }
      ]
    },
    {
      "cell_type": "markdown",
      "source": [
        "##コンパイルしたモデルで収集した画像データを学習させる"
      ],
      "metadata": {
        "id": "DBXCXh5Zf4Hk"
      }
    },
    {
      "cell_type": "code",
      "source": [
        "model.fit(X_train,Y_train,epochs=20,batch_size=16)"
      ],
      "metadata": {
        "colab": {
          "base_uri": "https://localhost:8080/"
        },
        "id": "F-dYvYXSe6aO",
        "outputId": "6771c3c8-e45c-4fa0-fff7-49c891529ad8"
      },
      "execution_count": 39,
      "outputs": [
        {
          "output_type": "stream",
          "name": "stdout",
          "text": [
            "Epoch 1/20\n",
            "8/8 [==============================] - 1s 91ms/step - loss: 1.2899 - accuracy: 0.4454\n",
            "Epoch 2/20\n",
            "8/8 [==============================] - 1s 85ms/step - loss: 0.9808 - accuracy: 0.5042\n",
            "Epoch 3/20\n",
            "8/8 [==============================] - 1s 85ms/step - loss: 0.7437 - accuracy: 0.4874\n",
            "Epoch 4/20\n",
            "8/8 [==============================] - 1s 85ms/step - loss: 0.7346 - accuracy: 0.4538\n",
            "Epoch 5/20\n",
            "8/8 [==============================] - 1s 85ms/step - loss: 0.6988 - accuracy: 0.5546\n",
            "Epoch 6/20\n",
            "8/8 [==============================] - 1s 86ms/step - loss: 0.9885 - accuracy: 0.5630\n",
            "Epoch 7/20\n",
            "8/8 [==============================] - 1s 85ms/step - loss: 0.6886 - accuracy: 0.5966\n",
            "Epoch 8/20\n",
            "8/8 [==============================] - 1s 85ms/step - loss: 0.6487 - accuracy: 0.6050\n",
            "Epoch 9/20\n",
            "8/8 [==============================] - 1s 85ms/step - loss: 0.6146 - accuracy: 0.6555\n",
            "Epoch 10/20\n",
            "8/8 [==============================] - 1s 85ms/step - loss: 0.5979 - accuracy: 0.7059\n",
            "Epoch 11/20\n",
            "8/8 [==============================] - 1s 86ms/step - loss: 0.4969 - accuracy: 0.7731\n",
            "Epoch 12/20\n",
            "8/8 [==============================] - 1s 86ms/step - loss: 0.3890 - accuracy: 0.8571\n",
            "Epoch 13/20\n",
            "8/8 [==============================] - 1s 86ms/step - loss: 0.1843 - accuracy: 0.9412\n",
            "Epoch 14/20\n",
            "8/8 [==============================] - 1s 85ms/step - loss: 0.0523 - accuracy: 1.0000\n",
            "Epoch 15/20\n",
            "8/8 [==============================] - 1s 85ms/step - loss: 0.0205 - accuracy: 1.0000\n",
            "Epoch 16/20\n",
            "8/8 [==============================] - 1s 85ms/step - loss: 0.0088 - accuracy: 1.0000\n",
            "Epoch 17/20\n",
            "8/8 [==============================] - 1s 85ms/step - loss: 0.0025 - accuracy: 1.0000\n",
            "Epoch 18/20\n",
            "8/8 [==============================] - 1s 85ms/step - loss: 6.9451e-04 - accuracy: 1.0000\n",
            "Epoch 19/20\n",
            "8/8 [==============================] - 1s 85ms/step - loss: 7.4009e-04 - accuracy: 1.0000\n",
            "Epoch 20/20\n",
            "8/8 [==============================] - 1s 85ms/step - loss: 3.4026e-04 - accuracy: 1.0000\n"
          ]
        },
        {
          "output_type": "execute_result",
          "data": {
            "text/plain": [
              "<keras.callbacks.History at 0x7fc5d020d1c0>"
            ]
          },
          "metadata": {},
          "execution_count": 39
        }
      ]
    },
    {
      "cell_type": "markdown",
      "source": [
        "##学習の成果を指標(accuracy)で確認"
      ],
      "metadata": {
        "id": "npZQGbn3hjhf"
      }
    },
    {
      "cell_type": "code",
      "source": [
        "score=model.evaluate(X_test,Y_test,batch_size=16)"
      ],
      "metadata": {
        "colab": {
          "base_uri": "https://localhost:8080/"
        },
        "id": "nkibN_8jgodA",
        "outputId": "da16b3b7-9ca0-4107-bd35-f617995b5e57"
      },
      "execution_count": 40,
      "outputs": [
        {
          "output_type": "stream",
          "name": "stdout",
          "text": [
            "2/2 [==============================] - 0s 92ms/step - loss: 1.7085 - accuracy: 0.5667\n"
          ]
        }
      ]
    },
    {
      "cell_type": "markdown",
      "source": [
        "##作成した学習モデルとクラス分類名を保存"
      ],
      "metadata": {
        "id": "mY_9ZmmCj9xP"
      }
    },
    {
      "cell_type": "code",
      "source": [
        "import pickle\n",
        "pickle.dump(classes,open('classes.sav','wb'))\n",
        "model.save('cnn.h5')"
      ],
      "metadata": {
        "id": "R7ShI9XTh7j7"
      },
      "execution_count": 41,
      "outputs": []
    },
    {
      "cell_type": "markdown",
      "source": [
        "#保存したクラス分類と学習モデルを読み込んで使う"
      ],
      "metadata": {
        "id": "39LCjJSzkEJD"
      }
    },
    {
      "cell_type": "code",
      "source": [
        "#ライブラリのimport\n",
        "from keras.models import load_model\n",
        "import pickle\n",
        "import cv2\n",
        "import glob"
      ],
      "metadata": {
        "id": "tgsCUwIKj7W9"
      },
      "execution_count": 42,
      "outputs": []
    },
    {
      "cell_type": "markdown",
      "source": [
        "##ファイルを読み込んでオブジェクトとしてよみがえらせる"
      ],
      "metadata": {
        "id": "ufNzD3Abk0Im"
      }
    },
    {
      "cell_type": "code",
      "source": [
        "model=load_model('cnn.h5')\n",
        "classes=pickle.load(open('classes.sav','rb'))"
      ],
      "metadata": {
        "id": "tUjC1onIkxWo"
      },
      "execution_count": 43,
      "outputs": []
    },
    {
      "cell_type": "markdown",
      "source": [
        "##sample画像を読み込む"
      ],
      "metadata": {
        "id": "kk4tmp43T3dc"
      }
    },
    {
      "cell_type": "code",
      "source": [
        "files=glob.glob('sample/*')\n",
        "print(files)"
      ],
      "metadata": {
        "id": "6slNeFjmlBe8",
        "colab": {
          "base_uri": "https://localhost:8080/"
        },
        "outputId": "3251ec2c-710e-4923-ada1-b15cacd9a60a"
      },
      "execution_count": 46,
      "outputs": [
        {
          "output_type": "stream",
          "name": "stdout",
          "text": [
            "['sample/cat_79.jpg', 'sample/dog_11.jpg', 'sample/dog_14.jpg']\n"
          ]
        }
      ]
    },
    {
      "cell_type": "markdown",
      "source": [
        "##ファイルパスから画像を読み込み、学習モデルの判定させ、該当するoutputフォルダにコピーを書き込む"
      ],
      "metadata": {
        "id": "xXrGPMtbVmCc"
      }
    },
    {
      "cell_type": "code",
      "source": [
        "for file in files:\n",
        "  img=cv2.imread(file)\n",
        "  img2=cv2.resize(img,dsize=(224,224))\n",
        "  img2=img2.astype('float32')\n",
        "  img2=img2/255.0\n",
        "  img2=img2[None,...]\n",
        "  result=model.predict(img2)\n",
        "  print(result)\n",
        "  pred=result.argmax()\n",
        "  print(pred,str(classes[pred]))\n",
        "  cv2.imwrite('output/'+str(classes[pred])+'/'+file,img)\n"
      ],
      "metadata": {
        "colab": {
          "base_uri": "https://localhost:8080/"
        },
        "id": "McDs8yuWVblJ",
        "outputId": "f6d23256-e50c-4e3f-c15e-b982a689aecf"
      },
      "execution_count": 49,
      "outputs": [
        {
          "output_type": "stream",
          "name": "stdout",
          "text": [
            "1/1 [==============================] - 0s 26ms/step\n",
            "[[2.1413295e-07 9.9999976e-01]]\n",
            "1 cat\n",
            "1/1 [==============================] - 0s 15ms/step\n",
            "[[1.000000e+00 4.751215e-09]]\n",
            "0 dog\n",
            "1/1 [==============================] - 0s 17ms/step\n",
            "[[9.9995816e-01 4.1817919e-05]]\n",
            "0 dog\n"
          ]
        }
      ]
    },
    {
      "cell_type": "code",
      "source": [],
      "metadata": {
        "id": "pL4RNPGXZmWN"
      },
      "execution_count": null,
      "outputs": []
    }
  ]
}