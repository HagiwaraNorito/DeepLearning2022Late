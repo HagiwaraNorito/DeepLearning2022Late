{
  "nbformat": 4,
  "nbformat_minor": 0,
  "metadata": {
    "colab": {
      "provenance": [],
      "authorship_tag": "ABX9TyN/lnBXO3valipS4TEiJy2U",
      "include_colab_link": true
    },
    "kernelspec": {
      "name": "python3",
      "display_name": "Python 3"
    },
    "language_info": {
      "name": "python"
    }
  },
  "cells": [
    {
      "cell_type": "markdown",
      "metadata": {
        "id": "view-in-github",
        "colab_type": "text"
      },
      "source": [
        "<a href=\"https://colab.research.google.com/github/HagiwaraNorito/DeepLearning2022Late/blob/main/%E3%83%A2%E3%82%B8%E3%83%A5%E3%83%BC%E3%83%AB%E3%81%A8%E3%83%A9%E3%82%A4%E3%83%96%E3%83%A9%E3%83%AA%E3%81%AE%E4%BD%BF%E7%94%A80920.ipynb\" target=\"_parent\"><img src=\"https://colab.research.google.com/assets/colab-badge.svg\" alt=\"Open In Colab\"/></a>"
      ]
    },
    {
      "cell_type": "markdown",
      "source": [
        "#モジュールをつかう\n",
        "import文でモジュールを読み込んで使う\n",
        "例）math"
      ],
      "metadata": {
        "id": "ivV7IipB9UMt"
      }
    },
    {
      "cell_type": "code",
      "execution_count": 1,
      "metadata": {
        "colab": {
          "base_uri": "https://localhost:8080/"
        },
        "id": "I-FQ_d8h8u_e",
        "outputId": "ca2068f4-8540-4018-a51c-c571229df97f"
      },
      "outputs": [
        {
          "output_type": "stream",
          "name": "stdout",
          "text": [
            "3.141592653589793\n",
            "25.0\n",
            "3.0\n"
          ]
        }
      ],
      "source": [
        "#mathモジュールを読み込む\n",
        "import math\n",
        "print(math.pi)\n",
        "print(math.pow(5,2))\n",
        "print(math.sqrt(9))"
      ]
    },
    {
      "cell_type": "markdown",
      "source": [
        "##Numpy-－数値計算用の便利なライブラリ\n",
        "\n",
        " https://numpy.org"
      ],
      "metadata": {
        "id": "oBpRiu80_tBN"
      }
    },
    {
      "cell_type": "code",
      "source": [
        "import numpy as np\n"
      ],
      "metadata": {
        "id": "FCBsTT2Q-6hg"
      },
      "execution_count": 2,
      "outputs": []
    },
    {
      "cell_type": "markdown",
      "source": [
        "##numpy配列()\n"
      ],
      "metadata": {
        "id": "8kvTHK4DorBw"
      }
    },
    {
      "cell_type": "code",
      "source": [
        "a=np.array([5,7,3,1,4,3])\n",
        "print(a)"
      ],
      "metadata": {
        "colab": {
          "base_uri": "https://localhost:8080/"
        },
        "id": "XHmg9Pd-opm-",
        "outputId": "2a95e76e-3d27-4c9e-c309-6dddfca54209"
      },
      "execution_count": 3,
      "outputs": [
        {
          "output_type": "stream",
          "name": "stdout",
          "text": [
            "[5 7 3 1 4 3]\n"
          ]
        }
      ]
    },
    {
      "cell_type": "markdown",
      "source": [
        "##Numpyで配列の操作をしてみる\n",
        "配列を構成しなおす\n"
      ],
      "metadata": {
        "id": "p_6grYeJqNHB"
      }
    },
    {
      "cell_type": "code",
      "source": [
        "print(a)\n",
        "b=a.reshape([3,2])\n",
        "print(b)\n"
      ],
      "metadata": {
        "colab": {
          "base_uri": "https://localhost:8080/"
        },
        "id": "MA4yETlop5yh",
        "outputId": "8fe7ac51-6d48-4963-e129-34a225bd2f69"
      },
      "execution_count": 4,
      "outputs": [
        {
          "output_type": "stream",
          "name": "stdout",
          "text": [
            "[5 7 3 1 4 3]\n",
            "[[5 7]\n",
            " [3 1]\n",
            " [4 3]]\n"
          ]
        }
      ]
    },
    {
      "cell_type": "markdown",
      "source": [
        "##Numpy配列の中身を初期化して作る"
      ],
      "metadata": {
        "id": "eUmBQ4jfsSr8"
      }
    },
    {
      "cell_type": "code",
      "source": [
        "c=np.zeros((3,4))\n",
        "print(c)\n",
        "#ランダムな値が入った配列をつくる\n",
        "np.random.seed(0)\n",
        "r=np.random.rand(3,4)\n",
        "print(r)"
      ],
      "metadata": {
        "colab": {
          "base_uri": "https://localhost:8080/"
        },
        "id": "RWFT3Geor0XV",
        "outputId": "b94232f8-e886-4c26-e4e8-e522adaf11ac"
      },
      "execution_count": 5,
      "outputs": [
        {
          "output_type": "stream",
          "name": "stdout",
          "text": [
            "[[0. 0. 0. 0.]\n",
            " [0. 0. 0. 0.]\n",
            " [0. 0. 0. 0.]]\n",
            "[[0.5488135  0.71518937 0.60276338 0.54488318]\n",
            " [0.4236548  0.64589411 0.43758721 0.891773  ]\n",
            " [0.96366276 0.38344152 0.79172504 0.52889492]]\n"
          ]
        }
      ]
    },
    {
      "cell_type": "markdown",
      "source": [
        "## Numpyのスライスのやりかた\n",
        "###基本\n",
        "スライスの指定の仕方\n",
        "[start:stop:step]\n",
        "で指定する"
      ],
      "metadata": {
        "id": "neNIqsiwueO2"
      }
    },
    {
      "cell_type": "code",
      "source": [
        "l=list(range(10))\n",
        "print(l)\n",
        "print(l[4:8])\n",
        "print(l[ : :-1])"
      ],
      "metadata": {
        "colab": {
          "base_uri": "https://localhost:8080/"
        },
        "id": "ZEhYviNWstTZ",
        "outputId": "4422e320-52e3-4108-b37a-943d3b786eff"
      },
      "execution_count": 6,
      "outputs": [
        {
          "output_type": "stream",
          "name": "stdout",
          "text": [
            "[0, 1, 2, 3, 4, 5, 6, 7, 8, 9]\n",
            "[4, 5, 6, 7]\n",
            "[9, 8, 7, 6, 5, 4, 3, 2, 1, 0]\n"
          ]
        }
      ]
    },
    {
      "cell_type": "markdown",
      "source": [
        "##一次元のNumpy配列(ndarray)におけるスライス\n"
      ],
      "metadata": {
        "id": "VHnXQimfw4HT"
      }
    },
    {
      "cell_type": "code",
      "source": [
        "a=np.arange(10)\n",
        "print(a)\n",
        "print(a[2:8])\n",
        "print(a[2:8:2])\n",
        "print(a[2:8:3])"
      ],
      "metadata": {
        "colab": {
          "base_uri": "https://localhost:8080/"
        },
        "id": "tq55W9qDw2XM",
        "outputId": "48ac42bd-1d48-4d02-f03a-e05c08dff911"
      },
      "execution_count": 7,
      "outputs": [
        {
          "output_type": "stream",
          "name": "stdout",
          "text": [
            "[0 1 2 3 4 5 6 7 8 9]\n",
            "[2 3 4 5 6 7]\n",
            "[2 4 6]\n",
            "[2 5]\n"
          ]
        }
      ]
    },
    {
      "cell_type": "markdown",
      "source": [
        "##一次元配列のndarrayのスライスに代入"
      ],
      "metadata": {
        "id": "tjSPUgb7zebY"
      }
    },
    {
      "cell_type": "code",
      "source": [
        "print(a)\n",
        "a[3:6] = 100\n",
        "print(a)\n",
        "a[3:6]=[100,200,300]\n",
        "print(a)\n",
        "#a[3:6]=[100,200,300,400]\n",
        "a=np.arange(10)\n",
        "print(a)\n",
        "a[2:8:2]=100\n",
        "print(a)"
      ],
      "metadata": {
        "colab": {
          "base_uri": "https://localhost:8080/"
        },
        "id": "CKNAB3Gvxqs5",
        "outputId": "f0a0fc31-e2a3-4ad3-d776-920994eb02af"
      },
      "execution_count": 8,
      "outputs": [
        {
          "output_type": "stream",
          "name": "stdout",
          "text": [
            "[0 1 2 3 4 5 6 7 8 9]\n",
            "[  0   1   2 100 100 100   6   7   8   9]\n",
            "[  0   1   2 100 200 300   6   7   8   9]\n",
            "[0 1 2 3 4 5 6 7 8 9]\n",
            "[  0   1 100   3 100   5 100   7   8   9]\n"
          ]
        }
      ]
    },
    {
      "cell_type": "markdown",
      "source": [
        "##多次元並列のndarrayのスライス"
      ],
      "metadata": {
        "id": "k0aTezNo20tI"
      }
    },
    {
      "cell_type": "code",
      "source": [
        "a=np.arange(12).reshape((3,4))\n",
        "print(a)\n",
        "print(a[1:, 1:3])\n",
        "b=np.arange(20).reshape((5,4))\n",
        "print(b)\n",
        "print(b[1:, 1:3])"
      ],
      "metadata": {
        "colab": {
          "base_uri": "https://localhost:8080/"
        },
        "id": "P1RXKI0z1STV",
        "outputId": "d3b18d0d-af08-4b53-8587-db63052c1f4c"
      },
      "execution_count": 9,
      "outputs": [
        {
          "output_type": "stream",
          "name": "stdout",
          "text": [
            "[[ 0  1  2  3]\n",
            " [ 4  5  6  7]\n",
            " [ 8  9 10 11]]\n",
            "[[ 5  6]\n",
            " [ 9 10]]\n",
            "[[ 0  1  2  3]\n",
            " [ 4  5  6  7]\n",
            " [ 8  9 10 11]\n",
            " [12 13 14 15]\n",
            " [16 17 18 19]]\n",
            "[[ 5  6]\n",
            " [ 9 10]\n",
            " [13 14]\n",
            " [17 18]]\n"
          ]
        }
      ]
    },
    {
      "cell_type": "markdown",
      "source": [
        "#多次元のndarrayへのスライス"
      ],
      "metadata": {
        "id": "S-JrpPLHe1Xs"
      }
    },
    {
      "cell_type": "code",
      "source": [
        "a=np.arange(12).reshape(3,4)\n",
        "print(a)\n",
        "print(a[1:,1:3])\n",
        "\n",
        "\n",
        "a[1:,1:3]=[100,200]\n",
        "print(a)\n",
        "a[1:,1:3]=[[100,200],[300,400]]\n",
        "print(a)"
      ],
      "metadata": {
        "id": "3dG2ZvKI4g5S",
        "colab": {
          "base_uri": "https://localhost:8080/"
        },
        "outputId": "95390fb8-7710-4c85-9ea6-5803430a1efa"
      },
      "execution_count": 11,
      "outputs": [
        {
          "output_type": "stream",
          "name": "stdout",
          "text": [
            "[[ 0  1  2  3]\n",
            " [ 4  5  6  7]\n",
            " [ 8  9 10 11]]\n",
            "[[ 5  6]\n",
            " [ 9 10]]\n",
            "[[  0   1   2   3]\n",
            " [  4 100 200   7]\n",
            " [  8 100 200  11]]\n",
            "[[  0   1   2   3]\n",
            " [  4 100 200   7]\n",
            " [  8 300 400  11]]\n"
          ]
        }
      ]
    },
    {
      "cell_type": "markdown",
      "source": [
        "##多次元のndarrayへのstopを使ったスライスでの代入"
      ],
      "metadata": {
        "id": "UjDARPBbinii"
      }
    },
    {
      "cell_type": "code",
      "source": [
        "a=np.arange(12).reshape((3,4))\n",
        "print(a)\n",
        "print(a[1:,::2])\n",
        "print(a[1:,::2])"
      ],
      "metadata": {
        "colab": {
          "base_uri": "https://localhost:8080/"
        },
        "id": "RGqDOQzXfI__",
        "outputId": "99a01566-2dda-4747-e118-d7e5240acd10"
      },
      "execution_count": 13,
      "outputs": [
        {
          "output_type": "stream",
          "name": "stdout",
          "text": [
            "[[ 0  1  2  3]\n",
            " [ 4  5  6  7]\n",
            " [ 8  9 10 11]]\n",
            "[[ 4  6]\n",
            " [ 8 10]]\n"
          ]
        }
      ]
    },
    {
      "cell_type": "code",
      "source": [],
      "metadata": {
        "id": "rIqqX9Ami8Cq"
      },
      "execution_count": null,
      "outputs": []
    }
  ]
}