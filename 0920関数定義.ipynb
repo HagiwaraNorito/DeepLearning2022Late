{
  "nbformat": 4,
  "nbformat_minor": 0,
  "metadata": {
    "colab": {
      "provenance": [],
      "authorship_tag": "ABX9TyMAHHy3wW59e7bMDujtp4eM",
      "include_colab_link": true
    },
    "kernelspec": {
      "name": "python3",
      "display_name": "Python 3"
    },
    "language_info": {
      "name": "python"
    }
  },
  "cells": [
    {
      "cell_type": "markdown",
      "metadata": {
        "id": "view-in-github",
        "colab_type": "text"
      },
      "source": [
        "<a href=\"https://colab.research.google.com/github/HagiwaraNorito/DeepLearning2022Late/blob/main/0920%E9%96%A2%E6%95%B0%E5%AE%9A%E7%BE%A9.ipynb\" target=\"_parent\"><img src=\"https://colab.research.google.com/assets/colab-badge.svg\" alt=\"Open In Colab\"/></a>"
      ]
    },
    {
      "cell_type": "code",
      "execution_count": null,
      "metadata": {
        "colab": {
          "base_uri": "https://localhost:8080/"
        },
        "id": "rvEM7PrqWMCw",
        "outputId": "7b076432-46eb-4798-a8cf-0e6330e6c4eb"
      },
      "outputs": [
        {
          "output_type": "stream",
          "name": "stdout",
          "text": [
            "test message\n"
          ]
        }
      ],
      "source": [
        "#helloという関数を定義する\n",
        "def hello():\n",
        "  print('Hello, kansuu')\n",
        "  #インデントされている命令文などは関数の範囲の中\n",
        "print('test message' )\n",
        "#インデントされていない命令文などは関数の範囲の外\n"
      ]
    },
    {
      "cell_type": "markdown",
      "source": [
        "##関数を実行する"
      ],
      "metadata": {
        "id": "PXtJNosVd9w9"
      }
    },
    {
      "cell_type": "code",
      "source": [
        "#作成した関数hello()をコールする\n",
        "hello()\n",
        "hello()"
      ],
      "metadata": {
        "colab": {
          "base_uri": "https://localhost:8080/"
        },
        "id": "OwGphJR0dXcx",
        "outputId": "baa4700f-498a-452a-f90b-33d073098d00"
      },
      "execution_count": null,
      "outputs": [
        {
          "output_type": "stream",
          "name": "stdout",
          "text": [
            "Hello, kansuu\n",
            "Hello, kansuu\n"
          ]
        }
      ]
    },
    {
      "cell_type": "markdown",
      "source": [
        "##引数つきの関数を定義する"
      ],
      "metadata": {
        "id": "GVn9_GmjentD"
      }
    },
    {
      "cell_type": "code",
      "source": [
        "#引数付きの関数 hello()を定義\n",
        "def hello(who):\n",
        "  print('hello,' + who + '!')\n",
        "\n",
        "hello('python!')"
      ],
      "metadata": {
        "colab": {
          "base_uri": "https://localhost:8080/"
        },
        "id": "5_Ngw1QmeTMj",
        "outputId": "7cb46bca-f157-4839-80c2-f7f5535de88a"
      },
      "execution_count": null,
      "outputs": [
        {
          "output_type": "stream",
          "name": "stdout",
          "text": [
            "hello,python!!\n"
          ]
        }
      ]
    },
    {
      "cell_type": "markdown",
      "source": [
        "##複数の引数つきの関数を定義"
      ],
      "metadata": {
        "id": "pBp3HIQ1gRR4"
      }
    },
    {
      "cell_type": "code",
      "source": [
        "def hello(who,aisatsu):\n",
        "  print('hello,' + who +'さん' + aisatsu)\n",
        "\n",
        "hello('田中','おはよう')\n",
        "hello('鈴木','こんにちは')"
      ],
      "metadata": {
        "colab": {
          "base_uri": "https://localhost:8080/"
        },
        "id": "t08Gte0hfvLp",
        "outputId": "55dbbea7-278d-403a-e9a7-50f3af2ecd48"
      },
      "execution_count": null,
      "outputs": [
        {
          "output_type": "stream",
          "name": "stdout",
          "text": [
            "hello,田中さんおはよう\n",
            "hello,鈴木さんこんにちは\n"
          ]
        }
      ]
    },
    {
      "cell_type": "markdown",
      "source": [
        "##関数の戻り値を定義する\n",
        "戻り値１つの関数を定義"
      ],
      "metadata": {
        "id": "x42tp6JLhwU1"
      }
    },
    {
      "cell_type": "code",
      "source": [
        "def helloBack(who,aisatsu):\n",
        "  return who + 'さん、' + aisatsu\n",
        "\n",
        "x = helloBack('佐藤', 'こんばんは')\n",
        "print(x)"
      ],
      "metadata": {
        "colab": {
          "base_uri": "https://localhost:8080/"
        },
        "id": "t1BqJNqvgyuO",
        "outputId": "efc87dd3-eb8b-4623-d903-34bd3ebf9ce7"
      },
      "execution_count": null,
      "outputs": [
        {
          "output_type": "stream",
          "name": "stdout",
          "text": [
            "佐藤さん、こんばんは\n"
          ]
        }
      ]
    },
    {
      "cell_type": "markdown",
      "source": [
        "##複数の戻り値を返す関数を定義"
      ],
      "metadata": {
        "id": "ZMP2t1qgjUSn"
      }
    },
    {
      "cell_type": "code",
      "source": [
        "def keisan(x,y):\n",
        "  return x,y,x+y\n",
        "\n",
        "e,f,g=keisan(3,6)\n",
        "print(e,f,g)"
      ],
      "metadata": {
        "colab": {
          "base_uri": "https://localhost:8080/"
        },
        "id": "nZQC3Ig6ifra",
        "outputId": "18262347-7c74-44b4-e870-50328516c231"
      },
      "execution_count": null,
      "outputs": [
        {
          "output_type": "stream",
          "name": "stdout",
          "text": [
            "3 6 9\n"
          ]
        }
      ]
    },
    {
      "cell_type": "markdown",
      "source": [
        "##その他の文法\n",
        "分岐(if文)"
      ],
      "metadata": {
        "id": "MYgj_IzflMgJ"
      }
    },
    {
      "cell_type": "code",
      "source": [
        "#if文の範囲もインデントで表す\n",
        "def over(num, thres):\n",
        "  if num >thres:\n",
        "    print(str(num)+'は'+str(thres)+'より大きい')\n",
        "  else:\n",
        "    print(str(num)+'は'+str(thres)+'以下です')\n",
        "  \n",
        "over(333,100)\n",
        "over(-1,10)"
      ],
      "metadata": {
        "colab": {
          "base_uri": "https://localhost:8080/"
        },
        "id": "w10A3sF6jyNN",
        "outputId": "ec8ee61b-ad47-43a2-c313-c3c5c30040d0"
      },
      "execution_count": null,
      "outputs": [
        {
          "output_type": "stream",
          "name": "stdout",
          "text": [
            "333は100より大きい\n",
            "-1は10以下です\n"
          ]
        }
      ]
    },
    {
      "cell_type": "code",
      "source": [
        "#リストに第2引数の値が含まれるか判定\n",
        "def include(list,keyword):\n",
        "  uniq = set(list)\n",
        "  if keyword in uniq:\n",
        "    print(keyword + 'が含まれる')\n",
        "  else:\n",
        "    print(keyword + 'が含まれない')\n",
        "\n",
        "list_1=['アップル','ペン','ペン','パイナップル']\n",
        "include(list_1,'パイナップル')\n",
        "include(list_1,'バナナ')"
      ],
      "metadata": {
        "id": "PyyZtKT4nor9",
        "colab": {
          "base_uri": "https://localhost:8080/"
        },
        "outputId": "b9adb0c4-edd0-4306-b99c-b0782594e63f"
      },
      "execution_count": 17,
      "outputs": [
        {
          "output_type": "stream",
          "name": "stdout",
          "text": [
            "パイナップルが含まれる\n",
            "バナナが含まれない\n"
          ]
        }
      ]
    },
    {
      "cell_type": "markdown",
      "source": [
        "##繰り返し文（whilw文）"
      ],
      "metadata": {
        "id": "G-i3g5FDxCNz"
      }
    },
    {
      "cell_type": "code",
      "source": [
        "#while文は条件がturの間くりかえすe\n",
        "def count(max):\n",
        "  num=0\n",
        "  while num<max:\n",
        "    print(num)\n",
        "    num+=1\n",
        "count(5)"
      ],
      "metadata": {
        "colab": {
          "base_uri": "https://localhost:8080/"
        },
        "id": "gmjsQxWJvk-2",
        "outputId": "43d6c905-a566-4a0c-cf26-6ec67f5f3afd"
      },
      "execution_count": 18,
      "outputs": [
        {
          "output_type": "stream",
          "name": "stdout",
          "text": [
            "0\n",
            "1\n",
            "2\n",
            "3\n",
            "4\n"
          ]
        }
      ]
    },
    {
      "cell_type": "markdown",
      "source": [
        "##繰り返し文（for文）\n",
        "変数βの集合から1つずつ取り出して変数αとして使う\n",
        "for 変数α in range(変数β):"
      ],
      "metadata": {
        "id": "YkcBlNA6y1LH"
      }
    },
    {
      "cell_type": "code",
      "source": [
        "#集合（コレクション）の中から取り出して繰り返し\n",
        "def every(array):\n",
        "  for x in array:\n",
        "    print(x)\n",
        "\n",
        "list=[1,2,3]\n",
        "every(list)\n",
        "tuple=(4,5,6)\n",
        "every(tuple)\n",
        "#辞書型もコレクション\n",
        "dict={'a':7,'b':8,'c':9}\n",
        "every(dict)\n",
        "values = dict.values()#値のリストを取得\n",
        "every(values)\n",
        "#文字列も文字配列としてコレクション扱いができる\n",
        "every('dog')"
      ],
      "metadata": {
        "colab": {
          "base_uri": "https://localhost:8080/"
        },
        "id": "IvzBVwOFyGYw",
        "outputId": "d7d1db0d-097d-48be-e3c9-b77dee149271"
      },
      "execution_count": 19,
      "outputs": [
        {
          "output_type": "stream",
          "name": "stdout",
          "text": [
            "1\n",
            "2\n",
            "3\n",
            "4\n",
            "5\n",
            "6\n",
            "a\n",
            "b\n",
            "c\n",
            "7\n",
            "8\n",
            "9\n",
            "d\n",
            "o\n",
            "g\n"
          ]
        }
      ]
    },
    {
      "cell_type": "code",
      "source": [
        "#カウンター変数で繰り返す\n",
        "#for n in range(数値)0～数値未満繰り返す\n",
        "\n",
        "def count(num):\n",
        "  for i in range(num):\n",
        "    print(i)\n",
        "count(3)"
      ],
      "metadata": {
        "colab": {
          "base_uri": "https://localhost:8080/"
        },
        "id": "oJSjbs763K56",
        "outputId": "18447c67-37ad-4070-9097-ab5762646476"
      },
      "execution_count": 20,
      "outputs": [
        {
          "output_type": "stream",
          "name": "stdout",
          "text": [
            "0\n",
            "1\n",
            "2\n"
          ]
        }
      ]
    },
    {
      "cell_type": "markdown",
      "source": [
        "##繰り返しを中断したいときは、break命令"
      ],
      "metadata": {
        "id": "5T3yQmC445XQ"
      }
    },
    {
      "cell_type": "code",
      "source": [
        "def stop(array):\n",
        "  for i in array:\n",
        "    if i >= 4:\n",
        "      break\n",
        "    print(i)\n",
        "list=[1,2,3,4,5,1,2,3,4,5]\n",
        "stop(list)\n"
      ],
      "metadata": {
        "colab": {
          "base_uri": "https://localhost:8080/"
        },
        "id": "1AX6dW2G4NxW",
        "outputId": "6fad0f56-14f3-4434-bd1d-0d9f91fd461b"
      },
      "execution_count": 21,
      "outputs": [
        {
          "output_type": "stream",
          "name": "stdout",
          "text": [
            "1\n",
            "2\n",
            "3\n"
          ]
        }
      ]
    },
    {
      "cell_type": "markdown",
      "source": [
        "##繰り返しをスキップしたいときは、continue命令"
      ],
      "metadata": {
        "id": "tcyuCRkk6v4F"
      }
    },
    {
      "cell_type": "code",
      "source": [
        "def skip(array):\n",
        "  for i in array:\n",
        "    if i>=4:\n",
        "      continue\n",
        "    print(i)\n",
        "\n",
        "list=[1,2,3,4,5,1,2,3,4,5]\n",
        "skip(list)"
      ],
      "metadata": {
        "colab": {
          "base_uri": "https://localhost:8080/"
        },
        "id": "-8vOI6YP6uXk",
        "outputId": "fc6dcc61-68df-4625-ac6a-d4ba2ef31d8f"
      },
      "execution_count": 22,
      "outputs": [
        {
          "output_type": "stream",
          "name": "stdout",
          "text": [
            "1\n",
            "2\n",
            "3\n",
            "1\n",
            "2\n",
            "3\n"
          ]
        }
      ]
    },
    {
      "cell_type": "code",
      "source": [],
      "metadata": {
        "id": "sFefgBpH8jZV"
      },
      "execution_count": null,
      "outputs": []
    }
  ]
}