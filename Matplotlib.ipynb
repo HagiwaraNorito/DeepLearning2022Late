{
  "nbformat": 4,
  "nbformat_minor": 0,
  "metadata": {
    "colab": {
      "provenance": [],
      "authorship_tag": "ABX9TyOSdA9njehBhlCy8XfKu5Hl",
      "include_colab_link": true
    },
    "kernelspec": {
      "name": "python3",
      "display_name": "Python 3"
    },
    "language_info": {
      "name": "python"
    }
  },
  "cells": [
    {
      "cell_type": "markdown",
      "metadata": {
        "id": "view-in-github",
        "colab_type": "text"
      },
      "source": [
        "<a href=\"https://colab.research.google.com/github/HagiwaraNorito/DeepLearning2022Late/blob/main/Matplotlib.ipynb\" target=\"_parent\"><img src=\"https://colab.research.google.com/assets/colab-badge.svg\" alt=\"Open In Colab\"/></a>"
      ]
    },
    {
      "cell_type": "markdown",
      "source": [
        "#ライブラリの読み込み"
      ],
      "metadata": {
        "id": "tmKsFQZMp-wY"
      }
    },
    {
      "cell_type": "code",
      "execution_count": 1,
      "metadata": {
        "id": "BcIeW6Lwojtv"
      },
      "outputs": [],
      "source": [
        "%matplotlib inline\n",
        "import matplotlib.pyplot as plt\n",
        "import numpy as np"
      ]
    },
    {
      "cell_type": "markdown",
      "source": [
        "##グラフ出力するデータの準備"
      ],
      "metadata": {
        "id": "Y_tZ8oYqq7b1"
      }
    },
    {
      "cell_type": "code",
      "source": [
        "t=np.arange(0.0,2.0,0.01)\n",
        "s=1+np.sin(2*np.pi*t)\n",
        "\n",
        "fig,ax=plt.subplots()\n",
        "ax.plot(t.s)\n",
        "\n",
        "ax.set(xlabel='time(s)',ylabel='voltage(mv)',\n",
        "       title='About as simple as it gets,folks')\n",
        "ax.grid( )\n",
        "# ax.plot(t,s)\n",
        "ax."
      ],
      "metadata": {
        "id": "sNQlHRlBq5OY"
      },
      "execution_count": null,
      "outputs": []
    },
    {
      "cell_type": "markdown",
      "source": [
        "##グラフのラベルとグリッドを描画させる"
      ],
      "metadata": {
        "id": "xV78MEfFyMTY"
      }
    },
    {
      "cell_type": "code",
      "source": [
        "# ax.set(xlabel='time(s)',ylabel='voltage(mv)',\n",
        "#        title='About as simple as it gets,folks')\n",
        "# ax.grid( )\n",
        "# # ax.plot(t,s)\n"
      ],
      "metadata": {
        "id": "zSfWijhaySIr"
      },
      "execution_count": null,
      "outputs": []
    },
    {
      "cell_type": "markdown",
      "source": [
        "##出来上がったグラフをpyplotで表示\n"
      ],
      "metadata": {
        "id": "COOnz2gAzDGE"
      }
    },
    {
      "cell_type": "code",
      "source": [
        "# ax.plot(t,s)\n"
      ],
      "metadata": {
        "id": "ul_AwNXDzLOx"
      },
      "execution_count": null,
      "outputs": []
    }
  ]
}