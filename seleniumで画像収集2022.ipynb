{
  "nbformat": 4,
  "nbformat_minor": 0,
  "metadata": {
    "colab": {
      "provenance": [],
      "authorship_tag": "ABX9TyMqUI+HJu0rmMRohQjc6gfr",
      "include_colab_link": true
    },
    "kernelspec": {
      "name": "python3",
      "display_name": "Python 3"
    },
    "language_info": {
      "name": "python"
    }
  },
  "cells": [
    {
      "cell_type": "markdown",
      "metadata": {
        "id": "view-in-github",
        "colab_type": "text"
      },
      "source": [
        "<a href=\"https://colab.research.google.com/github/HagiwaraNorito/DeepLearning2022Late/blob/main/selenium%E3%81%A7%E7%94%BB%E5%83%8F%E5%8F%8E%E9%9B%862022.ipynb\" target=\"_parent\"><img src=\"https://colab.research.google.com/assets/colab-badge.svg\" alt=\"Open In Colab\"/></a>"
      ]
    },
    {
      "cell_type": "markdown",
      "source": [
        "#seleniumを使って自動で画像検索し、結果を収集する"
      ],
      "metadata": {
        "id": "YcGsDfFq2i7q"
      }
    },
    {
      "cell_type": "markdown",
      "source": [
        "##必要なアプリのインストール\n",
        "Seleniumのインストール（バージョンを指定する）"
      ],
      "metadata": {
        "id": "pOaMAD_52yKW"
      }
    },
    {
      "cell_type": "code",
      "execution_count": null,
      "metadata": {
        "colab": {
          "base_uri": "https://localhost:8080/"
        },
        "id": "HcWiX7M92cW8",
        "outputId": "c1670164-fea7-4dc2-f8ba-5a429fd768ea"
      },
      "outputs": [
        {
          "output_type": "stream",
          "name": "stdout",
          "text": [
            "Looking in indexes: https://pypi.org/simple, https://us-python.pkg.dev/colab-wheels/public/simple/\n",
            "Collecting selenium==4.1.0\n",
            "  Downloading selenium-4.1.0-py3-none-any.whl (958 kB)\n",
            "\u001b[K     |████████████████████████████████| 958 kB 4.3 MB/s \n",
            "\u001b[?25hCollecting urllib3[secure]~=1.26\n",
            "  Downloading urllib3-1.26.13-py2.py3-none-any.whl (140 kB)\n",
            "\u001b[K     |████████████████████████████████| 140 kB 40.9 MB/s \n",
            "\u001b[?25hCollecting trio~=0.17\n",
            "  Downloading trio-0.22.0-py3-none-any.whl (384 kB)\n",
            "\u001b[K     |████████████████████████████████| 384 kB 38.0 MB/s \n",
            "\u001b[?25hCollecting trio-websocket~=0.9\n",
            "  Downloading trio_websocket-0.9.2-py3-none-any.whl (16 kB)\n",
            "Collecting exceptiongroup>=1.0.0rc9\n",
            "  Downloading exceptiongroup-1.0.4-py3-none-any.whl (14 kB)\n",
            "Collecting outcome\n",
            "  Downloading outcome-1.2.0-py2.py3-none-any.whl (9.7 kB)\n",
            "Requirement already satisfied: idna in /usr/local/lib/python3.8/dist-packages (from trio~=0.17->selenium==4.1.0) (2.10)\n",
            "Requirement already satisfied: attrs>=19.2.0 in /usr/local/lib/python3.8/dist-packages (from trio~=0.17->selenium==4.1.0) (22.1.0)\n",
            "Collecting async-generator>=1.9\n",
            "  Downloading async_generator-1.10-py3-none-any.whl (18 kB)\n",
            "Collecting sniffio\n",
            "  Downloading sniffio-1.3.0-py3-none-any.whl (10 kB)\n",
            "Requirement already satisfied: sortedcontainers in /usr/local/lib/python3.8/dist-packages (from trio~=0.17->selenium==4.1.0) (2.4.0)\n",
            "Collecting wsproto>=0.14\n",
            "  Downloading wsproto-1.2.0-py3-none-any.whl (24 kB)\n",
            "Collecting cryptography>=1.3.4\n",
            "  Downloading cryptography-38.0.4-cp36-abi3-manylinux_2_24_x86_64.whl (4.0 MB)\n",
            "\u001b[K     |████████████████████████████████| 4.0 MB 30.6 MB/s \n",
            "\u001b[?25hRequirement already satisfied: certifi in /usr/local/lib/python3.8/dist-packages (from urllib3[secure]~=1.26->selenium==4.1.0) (2022.9.24)\n",
            "Collecting pyOpenSSL>=0.14\n",
            "  Downloading pyOpenSSL-22.1.0-py3-none-any.whl (57 kB)\n",
            "\u001b[K     |████████████████████████████████| 57 kB 2.7 MB/s \n",
            "\u001b[?25hCollecting urllib3-secure-extra\n",
            "  Downloading urllib3_secure_extra-0.1.0-py2.py3-none-any.whl (1.4 kB)\n",
            "Requirement already satisfied: cffi>=1.12 in /usr/local/lib/python3.8/dist-packages (from cryptography>=1.3.4->urllib3[secure]~=1.26->selenium==4.1.0) (1.15.1)\n",
            "Requirement already satisfied: pycparser in /usr/local/lib/python3.8/dist-packages (from cffi>=1.12->cryptography>=1.3.4->urllib3[secure]~=1.26->selenium==4.1.0) (2.21)\n",
            "Collecting h11<1,>=0.9.0\n",
            "  Downloading h11-0.14.0-py3-none-any.whl (58 kB)\n",
            "\u001b[K     |████████████████████████████████| 58 kB 3.1 MB/s \n",
            "\u001b[?25hInstalling collected packages: sniffio, outcome, h11, exceptiongroup, cryptography, async-generator, wsproto, urllib3-secure-extra, urllib3, trio, pyOpenSSL, trio-websocket, selenium\n",
            "  Attempting uninstall: urllib3\n",
            "    Found existing installation: urllib3 1.24.3\n",
            "    Uninstalling urllib3-1.24.3:\n",
            "      Successfully uninstalled urllib3-1.24.3\n",
            "\u001b[31mERROR: pip's dependency resolver does not currently take into account all the packages that are installed. This behaviour is the source of the following dependency conflicts.\n",
            "requests 2.23.0 requires urllib3!=1.25.0,!=1.25.1,<1.26,>=1.21.1, but you have urllib3 1.26.13 which is incompatible.\u001b[0m\n",
            "Successfully installed async-generator-1.10 cryptography-38.0.4 exceptiongroup-1.0.4 h11-0.14.0 outcome-1.2.0 pyOpenSSL-22.1.0 selenium-4.1.0 sniffio-1.3.0 trio-0.22.0 trio-websocket-0.9.2 urllib3-1.26.13 urllib3-secure-extra-0.1.0 wsproto-1.2.0\n"
          ]
        }
      ],
      "source": [
        "!pip install selenium==4.1.0"
      ]
    },
    {
      "cell_type": "markdown",
      "source": [
        "##chromium-chromedriverのインストール"
      ],
      "metadata": {
        "id": "6hsBZ7N33seK"
      }
    },
    {
      "cell_type": "code",
      "source": [
        "!apt install chromium-chromedriver"
      ],
      "metadata": {
        "colab": {
          "base_uri": "https://localhost:8080/"
        },
        "id": "LWk7Udvr3ChX",
        "outputId": "64569306-8109-4ac9-ef40-192334b0913d"
      },
      "execution_count": null,
      "outputs": [
        {
          "output_type": "stream",
          "name": "stdout",
          "text": [
            "Reading package lists... Done\n",
            "Building dependency tree       \n",
            "Reading state information... Done\n",
            "The following package was automatically installed and is no longer required:\n",
            "  libnvidia-common-460\n",
            "Use 'apt autoremove' to remove it.\n",
            "The following additional packages will be installed:\n",
            "  chromium-browser chromium-browser-l10n chromium-codecs-ffmpeg-extra\n",
            "Suggested packages:\n",
            "  webaccounts-chromium-extension unity-chromium-extension\n",
            "The following NEW packages will be installed:\n",
            "  chromium-browser chromium-browser-l10n chromium-chromedriver\n",
            "  chromium-codecs-ffmpeg-extra\n",
            "0 upgraded, 4 newly installed, 0 to remove and 20 not upgraded.\n",
            "Need to get 95.6 MB of archives.\n",
            "After this operation, 321 MB of additional disk space will be used.\n",
            "Get:1 http://archive.ubuntu.com/ubuntu bionic-updates/universe amd64 chromium-codecs-ffmpeg-extra amd64 108.0.5359.71-0ubuntu0.18.04.5 [1,159 kB]\n",
            "Get:2 http://archive.ubuntu.com/ubuntu bionic-updates/universe amd64 chromium-browser amd64 108.0.5359.71-0ubuntu0.18.04.5 [83.6 MB]\n",
            "Get:3 http://archive.ubuntu.com/ubuntu bionic-updates/universe amd64 chromium-browser-l10n all 108.0.5359.71-0ubuntu0.18.04.5 [5,230 kB]\n",
            "Get:4 http://archive.ubuntu.com/ubuntu bionic-updates/universe amd64 chromium-chromedriver amd64 108.0.5359.71-0ubuntu0.18.04.5 [5,594 kB]\n",
            "Fetched 95.6 MB in 8s (12.1 MB/s)\n",
            "Selecting previously unselected package chromium-codecs-ffmpeg-extra.\n",
            "(Reading database ... 124013 files and directories currently installed.)\n",
            "Preparing to unpack .../chromium-codecs-ffmpeg-extra_108.0.5359.71-0ubuntu0.18.04.5_amd64.deb ...\n",
            "Unpacking chromium-codecs-ffmpeg-extra (108.0.5359.71-0ubuntu0.18.04.5) ...\n",
            "Selecting previously unselected package chromium-browser.\n",
            "Preparing to unpack .../chromium-browser_108.0.5359.71-0ubuntu0.18.04.5_amd64.deb ...\n",
            "Unpacking chromium-browser (108.0.5359.71-0ubuntu0.18.04.5) ...\n",
            "Selecting previously unselected package chromium-browser-l10n.\n",
            "Preparing to unpack .../chromium-browser-l10n_108.0.5359.71-0ubuntu0.18.04.5_all.deb ...\n",
            "Unpacking chromium-browser-l10n (108.0.5359.71-0ubuntu0.18.04.5) ...\n",
            "Selecting previously unselected package chromium-chromedriver.\n",
            "Preparing to unpack .../chromium-chromedriver_108.0.5359.71-0ubuntu0.18.04.5_amd64.deb ...\n",
            "Unpacking chromium-chromedriver (108.0.5359.71-0ubuntu0.18.04.5) ...\n",
            "Setting up chromium-codecs-ffmpeg-extra (108.0.5359.71-0ubuntu0.18.04.5) ...\n",
            "Setting up chromium-browser (108.0.5359.71-0ubuntu0.18.04.5) ...\n",
            "update-alternatives: using /usr/bin/chromium-browser to provide /usr/bin/x-www-browser (x-www-browser) in auto mode\n",
            "update-alternatives: using /usr/bin/chromium-browser to provide /usr/bin/gnome-www-browser (gnome-www-browser) in auto mode\n",
            "Setting up chromium-chromedriver (108.0.5359.71-0ubuntu0.18.04.5) ...\n",
            "Setting up chromium-browser-l10n (108.0.5359.71-0ubuntu0.18.04.5) ...\n",
            "Processing triggers for man-db (2.8.3-2ubuntu0.1) ...\n",
            "Processing triggers for hicolor-icon-theme (0.17-2) ...\n",
            "Processing triggers for mime-support (3.60ubuntu1) ...\n",
            "Processing triggers for libc-bin (2.27-3ubuntu1.6) ...\n"
          ]
        }
      ]
    },
    {
      "cell_type": "markdown",
      "source": [
        "#Seleniumを実行して操作する"
      ],
      "metadata": {
        "id": "vQcWR-ni5H_e"
      }
    },
    {
      "cell_type": "markdown",
      "source": [
        "##その他のライブラリのimport"
      ],
      "metadata": {
        "id": "5aMeJs2u5P6i"
      }
    },
    {
      "cell_type": "code",
      "source": [
        "import requests\n",
        "from selenium import webdriver\n",
        "from selenium.webdriver.chrome.options import Options\n",
        "import os\n",
        "import time\n",
        "import datetime\n",
        "#エラー処理用\n",
        "from selenium.common.exceptions import NoSuchElementException\n",
        "from selenium.common.exceptions import ElementClickInterceptedException"
      ],
      "metadata": {
        "colab": {
          "base_uri": "https://localhost:8080/"
        },
        "id": "o89-XRtE36PD",
        "outputId": "6d6b50c5-f6f0-414f-b2db-c87e525075b0"
      },
      "execution_count": null,
      "outputs": [
        {
          "output_type": "stream",
          "name": "stderr",
          "text": [
            "/usr/local/lib/python3.8/dist-packages/requests/__init__.py:89: RequestsDependencyWarning: urllib3 (1.26.13) or chardet (3.0.4) doesn't match a supported version!\n",
            "  warnings.warn(\"urllib3 ({}) or chardet ({}) doesn't match a supported \"\n"
          ]
        }
      ]
    },
    {
      "cell_type": "markdown",
      "source": [
        "##ログ用に時刻を取得"
      ],
      "metadata": {
        "id": "5jUoKQZY7jPz"
      }
    },
    {
      "cell_type": "code",
      "source": [
        "tm_start=time.time() #処理時間計測用\n",
        "dt_now=datetime.datetime.now() #現在日時\n",
        "dt_date_str=dt_now.strftime('%Y/%m/%d %H:%M') #書式指定\n",
        "print(dt_date_str)"
      ],
      "metadata": {
        "colab": {
          "base_uri": "https://localhost:8080/"
        },
        "id": "Doc0_I5K650L",
        "outputId": "ee0c363d-bbc4-4634-c95b-a909775b8c9e"
      },
      "execution_count": null,
      "outputs": [
        {
          "output_type": "stream",
          "name": "stdout",
          "text": [
            "2022/12/12 02:29\n"
          ]
        }
      ]
    },
    {
      "cell_type": "markdown",
      "source": [
        "##検索に関する設定値を定義する"
      ],
      "metadata": {
        "id": "uwYJSnlY9pZM"
      }
    },
    {
      "cell_type": "code",
      "source": [
        "QUERY='犬　フリー' #検索したいキーワード\n",
        "LIMIT_DL_NUM=100 #ダウンロード数の上限\n",
        "SAVE_DIR='img/dob_' #出力フォルダ（自動生成させる）\n",
        "FILE_NAME='dog_' #ファイル名（後ろに連番と拡張子を付けている）\n",
        "TIMEOUT=60 #検索のタイムアウト（秒）\n",
        "ACCESS_WAIT=1 #アクセスする感覚（秒）←超重要\n",
        "RETRY_NUM=3 #クリックやrequestのリトライ回数\n",
        "DRIVER_PATH='/usr/bin/chromedriver' #chromedriver.exeへのパス"
      ],
      "metadata": {
        "id": "HmeWcnkV8acH"
      },
      "execution_count": null,
      "outputs": []
    },
    {
      "cell_type": "markdown",
      "source": [
        "##Chromeをヘッドレスモードで起動する\n",
        "ヘッドレスモード＝ブラウザを画面に開かないで実行するモード"
      ],
      "metadata": {
        "id": "p6h6YezhAo9d"
      }
    },
    {
      "cell_type": "code",
      "source": [
        "#optionの指定を準備\n",
        "options=Options()\n",
        "options.add_argument('--headless')\n",
        "options.add_argument('--no-sandbox')\n",
        "options.add_argument('--disable-dev-shm-usage')\n",
        "options.add_argument('start-fullscreen')\n",
        "options.add_argument('--disable-plugins')\n",
        "options.add_argument('--disable-extensions')\n",
        "#起動する\n",
        "driver=webdriver.Chrome(DRIVER_PATH,options=options)\n",
        "driver.implicitly_wait(TIMEOUT)\n",
        "#ログに処理時間を出力\n",
        "tm_driver=time.time()\n",
        "print('WebDriver起動完了',f'{tm_driver - tm_start}s')\n"
      ],
      "metadata": {
        "colab": {
          "base_uri": "https://localhost:8080/"
        },
        "id": "ns3Q4uQT_8pz",
        "outputId": "ff476669-6623-4421-9dc3-1d298012cbe1"
      },
      "execution_count": null,
      "outputs": [
        {
          "output_type": "stream",
          "name": "stderr",
          "text": [
            "<ipython-input-6-eb4d5bd2f32c>:10: DeprecationWarning: executable_path has been deprecated, please pass in a Service object\n",
            "  driver=webdriver.Chrome(DRIVER_PATH,options=options)\n"
          ]
        },
        {
          "output_type": "stream",
          "name": "stdout",
          "text": [
            "WebDriver起動完了 0.8290920257568359s\n"
          ]
        }
      ]
    },
    {
      "cell_type": "markdown",
      "source": [
        "##Googleの画像検索へアクセス"
      ],
      "metadata": {
        "id": "55ZRCZiYL7a9"
      }
    },
    {
      "cell_type": "code",
      "source": [
        "#QUERY条件付きでURLを定義する\n",
        "url=f'https://www.google.com/search?q={QUERY}&tbm=isch'\n",
        "#組み立てたURLでアクセスして検索\n",
        "driver.get(url)\n",
        "#時刻のログを取得\n",
        "tm_geturl=time.time()\n",
        "print('Google画像検索ページ取得',f'{tm_geturl - tm_driver:1f}s')\n"
      ],
      "metadata": {
        "colab": {
          "base_uri": "https://localhost:8080/"
        },
        "id": "-BNElA9IDOAm",
        "outputId": "76ed54f0-ad4b-437a-82e0-072eb556d99f"
      },
      "execution_count": null,
      "outputs": [
        {
          "output_type": "stream",
          "name": "stdout",
          "text": [
            "Google画像検索ページ取得 2.116894s\n"
          ]
        }
      ]
    },
    {
      "cell_type": "markdown",
      "source": [
        "##検索結果の要素を取得していく"
      ],
      "metadata": {
        "id": "-Pz57hklQnUm"
      }
    },
    {
      "cell_type": "code",
      "source": [
        "#ページのサムネイル画像の要素群を取得\n",
        "#(islmpクラスが指定されたimg=サムネイルをすべて拾う)\n",
        "tmb_elems=driver.find_elements_by_css_selector('#islmp img')\n",
        "#サムネイルのリストから各サムネイルのalt属性を取得していく\n",
        "tmb_alts=[tmb.get_attribute('alt') for tmb in tmb_elems]\n",
        "count=len(tmb_alts) - tmb_alts.count('')\n",
        "print(count)"
      ],
      "metadata": {
        "colab": {
          "base_uri": "https://localhost:8080/"
        },
        "id": "XgQY1B1eQWBP",
        "outputId": "24cdf3e2-0fa6-40b5-968f-16077a885c32"
      },
      "execution_count": null,
      "outputs": [
        {
          "output_type": "stream",
          "name": "stderr",
          "text": [
            "<ipython-input-8-9e64ab3f4752>:3: DeprecationWarning: find_elements_by_* commands are deprecated. Please use find_elements() instead\n",
            "  tmb_elems=driver.find_elements_by_css_selector('#islmp img')\n"
          ]
        },
        {
          "output_type": "stream",
          "name": "stdout",
          "text": [
            "48\n"
          ]
        }
      ]
    },
    {
      "cell_type": "markdown",
      "source": [
        "##下にスクロールさせてさらに検索結果を表示させてまたカウント"
      ],
      "metadata": {
        "id": "WBjR7uBpTeqh"
      }
    },
    {
      "cell_type": "code",
      "source": [
        "#定義したLIMIT_DL_NUM（ダウンロード数の上限）になるまでスクロールを繰り返す\n",
        "while count<LIMIT_DL_NUM:\n",
        "  #ページの一番下へスクロールして新しいサムネイル画像を表示させる\n",
        "  driver.execute_script('window.scrollTo(0,document.body.scrollHeight);')\n",
        "  time.sleep(1) #スリープを繰り返す間隔（秒）\n",
        "  tmb_elems=driver.find_elements_by_css_selector('#islmp img')\n",
        "  tmb_alts=[tmb.get_attribute('alt') for tmb in tmb_elems]\n",
        "  count=len(tmb_alts) - tmb_alts.count('')\n",
        "  print(count)"
      ],
      "metadata": {
        "colab": {
          "base_uri": "https://localhost:8080/"
        },
        "id": "vfow6wA0ScP3",
        "outputId": "dd173f0f-937f-44d1-c419-b691e3efe11d"
      },
      "execution_count": null,
      "outputs": [
        {
          "output_type": "stream",
          "name": "stderr",
          "text": [
            "<ipython-input-9-e70ef4c96ab7>:6: DeprecationWarning: find_elements_by_* commands are deprecated. Please use find_elements() instead\n",
            "  tmb_elems=driver.find_elements_by_css_selector('#islmp img')\n"
          ]
        },
        {
          "output_type": "stream",
          "name": "stdout",
          "text": [
            "100\n"
          ]
        }
      ]
    },
    {
      "cell_type": "markdown",
      "source": [
        "##サムネイルをクリックすると右側に開かれる領域をオブジェクトに取得"
      ],
      "metadata": {
        "id": "6KSc3-GGaR6a"
      }
    },
    {
      "cell_type": "code",
      "source": [
        "imgframe_elem=driver.find_element_by_id(('islsp'))"
      ],
      "metadata": {
        "colab": {
          "base_uri": "https://localhost:8080/"
        },
        "id": "xFFklx97ZEYk",
        "outputId": "eca2d9ca-7e87-4c16-dbb4-b86f13e611fe"
      },
      "execution_count": null,
      "outputs": [
        {
          "output_type": "stream",
          "name": "stderr",
          "text": [
            "<ipython-input-10-4af9e03f6fd8>:1: DeprecationWarning: find_element_by_* commands are deprecated. Please use find_element() instead\n",
            "  imgframe_elem=driver.find_element_by_id(('islsp'))\n"
          ]
        }
      ]
    },
    {
      "cell_type": "markdown",
      "source": [
        "##画像へURLアクセスして保存する準備をする"
      ],
      "metadata": {
        "id": "vpxYQUGiaZRm"
      }
    },
    {
      "cell_type": "code",
      "source": [
        "os.makedirs(SAVE_DIR,exist_ok=True)\n",
        "HTTP_HEADERS={'User-Aget':driver.execute_script('return navigator.userAgent;')}\n",
        "print(HTTP_HEADERS)\n",
        "IMG_EXTS=('.jpg','.jpeg','.png','gif')"
      ],
      "metadata": {
        "colab": {
          "base_uri": "https://localhost:8080/"
        },
        "id": "cQWc7v88aQUJ",
        "outputId": "a9c8ffc6-d125-4d13-f984-a1b2b3ca8372"
      },
      "execution_count": null,
      "outputs": [
        {
          "output_type": "stream",
          "name": "stdout",
          "text": [
            "{'User-Aget': 'Mozilla/5.0 (X11; Linux x86_64) AppleWebKit/537.36 (KHTML, like Gecko) HeadlessChrome/108.0.5359.71 Safari/537.36'}\n"
          ]
        }
      ]
    },
    {
      "cell_type": "markdown",
      "source": [
        "#ダウンロード中に利用する関数を定義する\n",
        "##画像の拡張子を取得する関数"
      ],
      "metadata": {
        "id": "hxpYXUOscSdh"
      }
    },
    {
      "cell_type": "code",
      "source": [
        "def get_extension(url):\n",
        "  url_lower = url.lower()\n",
        "  for img_ext in IMG_EXTS:\n",
        "    if img_ext in url_lower:\n",
        "      extension='.jpg' if img_ext == '.jpeg' else img_ext\n",
        "      break\n",
        "    else:\n",
        "      extension=''\n",
        "  return extension\n",
        "\n"
      ],
      "metadata": {
        "id": "pK3TLEutbIAW"
      },
      "execution_count": null,
      "outputs": []
    },
    {
      "cell_type": "code",
      "source": [
        "def download_image(url,path,loop):\n",
        "  result=False\n",
        "  for i in range(loop):\n",
        "    try:\n",
        "      r=requests.get(url,headers=HTTP_HEADERS,stream=True,timeout=10)\n",
        "      r.raise_for_status()\n",
        "      with open (path,'wb')as f:\n",
        "        f.write(r.content)\n",
        "\n",
        "    except requests.exceptions.SSLError:\n",
        "      print('****** SSL エラー')\n",
        "      break\n",
        "    except requests.exceptions.RequestException as e:\n",
        "      print(f'****** requests エラー({e}):{i+1}/{RETRY_NUM}')\n",
        "      time.sleep(1)\n",
        "    else:\n",
        "      result=True\n",
        "      break\n",
        "\n",
        "  "
      ],
      "metadata": {
        "id": "V_d8NsKIObfp"
      },
      "execution_count": null,
      "outputs": []
    },
    {
      "cell_type": "code",
      "source": [
        "tm_thumbnails=time.time()\n",
        "print('サムネイル画像取得とDL準備完了',f'{tm_thumbnails - tm_geturl:.1f}s')"
      ],
      "metadata": {
        "colab": {
          "base_uri": "https://localhost:8080/"
        },
        "id": "thaFRVgRQGW-",
        "outputId": "d2b09226-95f5-4a2d-9a01-5a18fd10e471"
      },
      "execution_count": null,
      "outputs": [
        {
          "output_type": "stream",
          "name": "stdout",
          "text": [
            "サムネイル画像取得とDL準備完了 6.0s\n"
          ]
        }
      ]
    },
    {
      "cell_type": "code",
      "source": [
        "EXCLUSION_URL='https//lh3.googleusercontent.com/'\n",
        "count=0\n",
        "url_list=[]\n",
        "\n",
        "for tmb_elem,tmb_alt in zip(tmb_elems,tmb_alts):\n",
        "  if tmb_alt=='':#ALT属性が空＝小さいサムネとみなしてスキップ\n",
        "    continue \n",
        "  print(f'{count}:{tmb_alt}')\n",
        "  for i in range(RETRY_NUM):\n",
        "\n",
        "    try:\n",
        "      tmb_elem.click()\n",
        "    except ElementClickInterceptedException:\n",
        "      print(f'***** click エラー:{i + 1}/{RETRY_NUM}')\n",
        "      driver.execute_script('arguments[0].scrollIntoView(true);',tmb_elem)\n",
        "      time.sleep\n",
        "    else:\n",
        "      break\n",
        "  else:\n",
        "    print('***** キャンセル')\n",
        "    continue\n",
        "  time.sleep(ACCESS_WAIT)\n",
        "  alt=tmb_alt.replace(\"'\",\"\\\\\")\n",
        "  try:\n",
        "    img_elem=imgframe_elem.find_element_by_css_selector(f'img[alt=\\'{alt}\\']')\n",
        "\n",
        "  except NoSuchElementException:\n",
        "    print('***** img要素検索エラー')\n",
        "    print('***** キャンセル')\n",
        "    continue\n",
        "  tmb_url=tmb_elem.get_attribute('src')\n",
        "  \n",
        "  for i in range(RETRY_NUM):\n",
        "    url=img_elem.get_attribute('src')\n",
        "    if EXCLUSION_URL in url:\n",
        "      print('除外対象url')\n",
        "      url=''\n",
        "      break\n",
        "    elif url == tmb_url:\n",
        "      print(f'***** urlチェック:{i+1}/{RETRY_NUM}')\n",
        "    else:\n",
        "      break\n",
        "    \n",
        "  if url == '':\n",
        "    print('***** キャンセル')\n",
        "    continue\n",
        "  ext=get_extension(url)\n",
        "  if ext == '':\n",
        "    print(f'***** urlに拡張子が含まれていないのでキャンセル')\n",
        "    print(f'{url}')\n",
        "    continue\n",
        "\n",
        "  filename=f'{FILE_NAME}{count}{ext}'\n",
        "  path=SAVE_DIR + '/' + filename\n",
        "  result = download_image(url,path,RETRY_NUM)\n",
        "  if result == False:\n",
        "    print('***** キャンセル')\n",
        "    continue\n",
        "  url_list.append(f'{filename}:{url}')\n",
        "\n",
        "  count +=1\n",
        "  if count >= LIMIT_DL_NUM:\n",
        "    break\n",
        "  tm_end=time.time()\n",
        "  print('ダウンロード',f'{tm_end - tm_thumbnails:.1f}s')\n",
        "  print('------------------------')\n"
      ],
      "metadata": {
        "colab": {
          "base_uri": "https://localhost:8080/"
        },
        "id": "Qx_raqkpVoGy",
        "outputId": "eaa26a3c-157b-4cce-86ad-fd0d94d30a0d"
      },
      "execution_count": null,
      "outputs": [
        {
          "output_type": "stream",
          "name": "stdout",
          "text": [
            "0:犬の写真素材｜写真素材なら「写真AC」無料（フリー）ダウンロードOK\n"
          ]
        },
        {
          "output_type": "stream",
          "name": "stderr",
          "text": [
            "/usr/local/lib/python3.8/dist-packages/selenium/webdriver/remote/webelement.py:484: UserWarning: find_element_by_* commands are deprecated. Please use find_element() instead\n",
            "  warnings.warn(\"find_element_by_* commands are deprecated. Please use find_element() instead\")\n"
          ]
        },
        {
          "output_type": "stream",
          "name": "stdout",
          "text": [
            "ダウンロード 2.3s\n",
            "------------------------\n",
            "1:へっくしょん（犬）の写真素材 - ぱくたそ\n",
            "ダウンロード 3.8s\n",
            "------------------------\n",
            "2:犬 | フリー素材ドットコム\n",
            "ダウンロード 5.2s\n",
            "------------------------\n",
            "3:怠惰な秋田犬の写真素材 - ぱくたそ\n",
            "ダウンロード 6.7s\n",
            "------------------------\n",
            "4:犬の写真素材｜写真素材なら「写真AC」無料（フリー）ダウンロードOK\n",
            "ダウンロード 7.9s\n",
            "------------------------\n",
            "5:犬 | フリー素材ドットコム\n",
            "ダウンロード 9.5s\n",
            "------------------------\n",
            "6:フリー写真] 芝生を駆ける二匹の子犬でアハ体験 - GAHAG | 著作権フリー写真・イラスト素材集\n",
            "****** requests エラー(403 Client Error: Forbidden for url: https://img01.gahag.net/201601/14o/gahag-0046037255.jpg):1/3\n",
            "****** requests エラー(403 Client Error: Forbidden for url: https://img01.gahag.net/201601/14o/gahag-0046037255.jpg):2/3\n",
            "****** requests エラー(403 Client Error: Forbidden for url: https://img01.gahag.net/201601/14o/gahag-0046037255.jpg):3/3\n",
            "ダウンロード 14.1s\n",
            "------------------------\n",
            "7:画像素材なら！無料・フリー写真素材のフリーフォト\n",
            "***** urlチェック:1/3\n",
            "***** urlチェック:2/3\n",
            "***** urlチェック:3/3\n",
            "***** urlに拡張子が含まれていないのでキャンセル\n",
            "data:image/jpeg;base64,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\n",
            "7:犬 ハイタッチの写真素材｜写真素材なら「写真AC」無料（フリー）ダウンロードOK\n",
            "ダウンロード 16.5s\n",
            "------------------------\n",
            "8:無料で使える 犬 フリー素材 - 使える写真ギャラリーSothei\n",
            "ダウンロード 17.9s\n",
            "------------------------\n",
            "9:犬の写真素材｜写真素材なら「写真AC」無料（フリー）ダウンロードOK\n",
            "ダウンロード 19.1s\n",
            "------------------------\n",
            "10:犬・チワワ | 無料の高画質フリー写真素材 | イメージズラボ\n",
            "ダウンロード 20.9s\n",
            "------------------------\n",
            "11:犬（戌）」をテーマにした無料写真素材10選（商用利用可） | ACワークスのブログ\n",
            "ダウンロード 22.6s\n",
            "------------------------\n",
            "12:フリー写真] 耳の垂れた犬 - パブリックドメインQ：著作権フリー画像素材集\n",
            "ダウンロード 24.2s\n",
            "------------------------\n",
            "13:犬のイラスト-無料イラストフリー素材\n",
            "***** urlチェック:1/3\n",
            "***** urlチェック:2/3\n",
            "***** urlチェック:3/3\n",
            "***** urlに拡張子が含まれていないのでキャンセル\n",
            "data:image/png;base64,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\n",
            "13:犬のフリーアイコン｜可愛いフリーアイコン・イラストの無料素材サイト｜フリーペンシル\n",
            "ダウンロード 26.8s\n",
            "------------------------\n",
            "14:犬 のストック写真、ロイヤリティフリーの画像、ベクター、およびビデオ | Adobe Stock\n",
            "ダウンロード 28.1s\n",
            "------------------------\n",
            "15:100以上の無料柴犬&犬画像 - Pixabay\n",
            "ダウンロード 29.4s\n",
            "------------------------\n",
            "16:フリー写真素材|動物|哺乳類|イヌ科|犬・イヌ|子犬・小犬|柴犬 ... | Dog blog, Shiba inu, Cute animals\n",
            "ダウンロード 30.6s\n",
            "------------------------\n",
            "17:犬（戌）」をテーマにした無料イラスト素材10選（商用利用可） | ACワークスのブログ\n",
            "ダウンロード 32.3s\n",
            "------------------------\n",
            "18:犬（寒くて帰りたいワン…）の写真素材 - ぱくたそ\n",
            "ダウンロード 33.8s\n",
            "------------------------\n",
            "19:最も幸せな犬」をフリー素材で検索したら最高すぎた\n",
            "ダウンロード 35.1s\n",
            "------------------------\n",
            "20:23,754+以上の無料犬画像\n",
            "ダウンロード 36.4s\n",
            "------------------------\n",
            "21:日本スピッツや白い犬の素材（動画や写真）をお探しの方へ│日本スピッツちぃ。\n",
            "ダウンロード 37.8s\n",
            "------------------------\n",
            "22:犬にも”バリアフリー”の住環境を シニア犬が過ごしやすい暮らしとは｜いぬのきもちWEB MAGAZINE\n",
            "ダウンロード 39.1s\n",
            "------------------------\n",
            "23:犬に穀物はダメって本当？ グレインフリー神話が生まれた理由を解説します。 | ペトコト\n",
            "ダウンロード 40.4s\n",
            "------------------------\n",
            "24:雑種犬 写真素材 [ 226180 ] 無料 - フォトライブラリー photolibrary\n",
            "ダウンロード 41.9s\n",
            "------------------------\n",
            "25:フリー写真] 四匹の犬と猫 - パブリックドメインQ：著作権フリー画像素材集\n",
            "ダウンロード 43.3s\n",
            "------------------------\n",
            "26:犬 | フリー素材ドットコム\n",
            "ダウンロード 44.7s\n",
            "------------------------\n",
            "27:人面犬のイラスト | かわいいフリー素材集 いらすとや\n",
            "ダウンロード 45.9s\n",
            "------------------------\n",
            "28:走る犬 シュナウザーのフリー素材｜無料写真素材集＞dog0173-022＞ダウンロード 高解像度画像 無料写真素材のプロ・フォト\n",
            "ダウンロード 47.3s\n",
            "------------------------\n",
            "29:犬からの10のお願い | 泣ける話や感動の実話、号泣するストーリーまとめ - ラクリマ\n",
            "ダウンロード 48.6s\n",
            "------------------------\n",
            "30:ドッグランで小型犬をフリースペースに入れる3つの危険性 | わんちゃんホンポ\n",
            "ダウンロード 50.0s\n",
            "------------------------\n",
            "31:ブログで使える犬のフリー画像50枚を集めます 様々なシチュエーションに対応!!可笑しい!可愛い!!犬の画像 | 写真撮影・素材提供 | ココナラ\n",
            "ダウンロード 51.2s\n",
            "------------------------\n",
            "32:犬の無料(フリー)イラスト | かわいい手描きの無料素材「てがきっず」保育園・小学校・介護施設にぴったりのフリー素材イラスト\n",
            "ダウンロード 52.7s\n",
            "------------------------\n",
            "33:犬の写真素材｜写真素材なら「写真AC」無料（フリー）ダウンロードOK\n",
            "ダウンロード 53.9s\n",
            "------------------------\n",
            "34:大型犬にアゴを乗せる小型犬（ビーグル）2 | フリー素材ドットコム\n",
            "ダウンロード 56.1s\n",
            "------------------------\n",
            "35:犬のイラスト-無料イラストフリー素材\n",
            "***** urlチェック:1/3\n",
            "***** urlチェック:2/3\n",
            "***** urlチェック:3/3\n",
            "***** urlに拡張子が含まれていないのでキャンセル\n",
            "https://encrypted-tbn0.gstatic.com/images?q=tbn:ANd9GcTGpwA6Zog1FQLeOM4lU9D0ZTK7HNys75o8hw&usqp=CAU\n",
            "35:ボロという犬の話 | 泣ける話や感動の実話、号泣するストーリーまとめ - ラクリマ\n",
            "ダウンロード 58.5s\n",
            "------------------------\n",
            "36:ゆんフリー写真素材集 : No. 16018 笑う犬 [中国 / 松藩]\n",
            "****** requests エラー(406 Client Error: Not Acceptable for url: http://www.tmyun.com/mid/yun_16018.jpg):1/3\n",
            "****** requests エラー(406 Client Error: Not Acceptable for url: http://www.tmyun.com/mid/yun_16018.jpg):2/3\n",
            "****** requests エラー(406 Client Error: Not Acceptable for url: http://www.tmyun.com/mid/yun_16018.jpg):3/3\n",
            "ダウンロード 64.0s\n",
            "------------------------\n",
            "37:フリー写真, フリー写真, CC0 写真, 動物（写真）, 哺乳類, 犬（イヌ）, ラブラドール・レトリーバー, ウインク | Dog  training, Labrador dog, Labrador retriever\n",
            "ダウンロード 65.2s\n",
            "------------------------\n",
            "38:サンプル】アンデスポークヒレ肉・マダラ＆ベジタブル・フルーツ（アイケア・成犬用） - Runfree\n",
            "ダウンロード 66.6s\n",
            "------------------------\n",
            "39:犬の無料イラスト一覧\n",
            "ダウンロード 68.0s\n",
            "------------------------\n",
            "40:犬のバレンタインイラストのフリー素材｜イラストイメージ\n",
            "ダウンロード 69.4s\n",
            "------------------------\n",
            "41:無料の犬のイラストコレクション【商用利用可能・フリー素材】（2022.06.20更新） / イラストセンター\n",
            "ダウンロード 70.8s\n",
            "------------------------\n",
            "42:フリーペーパー『もふもふ』とは・・・ 犬猫の代弁者になる。動物と家族に寄り添うフリーペーパー継続！（石塚 美穂 (ワントゥワンズ 代表)  2017/10/15 投稿） - クラウドファンディング READYFOR\n",
            "ダウンロード 72.1s\n",
            "------------------------\n",
            "43:無料写真] 犬のスピッツ - パブリックドメインQ：著作権フリー画像素材集\n",
            "****** requests エラー(403 Client Error: Forbidden for url: https://publicdomainq.net/images/201704/19s/publicdomainq-0008215ime.jpg):1/3\n",
            "****** requests エラー(403 Client Error: Forbidden for url: https://publicdomainq.net/images/201704/19s/publicdomainq-0008215ime.jpg):2/3\n",
            "****** requests エラー(403 Client Error: Forbidden for url: https://publicdomainq.net/images/201704/19s/publicdomainq-0008215ime.jpg):3/3\n",
            "ダウンロード 76.9s\n",
            "------------------------\n",
            "44:犬にも”バリアフリー”の住環境を シニア犬が過ごしやすい暮らしとは｜いぬのきもちWEB MAGAZINE\n",
            "ダウンロード 78.2s\n",
            "------------------------\n",
            "45:犬・小型犬の商用可能フリー素材 - オドフラン ～いつもどこかに「なるほど」を～\n",
            "ダウンロード 79.6s\n",
            "------------------------\n",
            "46:動物,犬のフリー素材 - Web素材工房 デジタルカラーボックス\n",
            "ダウンロード 80.9s\n",
            "------------------------\n",
            "47:犬の犬種セット かわいい無料イラスト81771 | 素材Good\n",
            "ダウンロード 82.4s\n",
            "------------------------\n",
            "48:犬のイラスト | フリーイラスト素材集｜ちょうどいいイラスト\n",
            "ダウンロード 83.9s\n",
            "------------------------\n",
            "49:犬フリー写真：無料 風景 写真 フリー素材集/yutti photo\n",
            "ダウンロード 85.8s\n",
            "------------------------\n",
            "50:歯を剥いて怒っている犬 写真素材 [ 3399534 ] - フォトライブラリー photolibrary\n",
            "ダウンロード 87.4s\n",
            "------------------------\n",
            "51:犬｜無料写真素材ならフリー素材タウン\n",
            "***** urlチェック:1/3\n",
            "***** urlチェック:2/3\n",
            "***** urlチェック:3/3\n",
            "***** urlに拡張子が含まれていないのでキャンセル\n",
            "https://encrypted-tbn0.gstatic.com/images?q=tbn:ANd9GcSAdnje0Dosc0qTquHvT329sNxdXmkiGsZHdg&usqp=CAU\n",
            "51:警戒する小型犬（チワワ）の写真素材 - ぱくたそ\n",
            "ダウンロード 90.3s\n",
            "------------------------\n",
            "52:犬 | かわいいフリー素材集 いらすとや\n",
            "ダウンロード 91.7s\n",
            "------------------------\n",
            "53:犬」フリーイラスト | シンプルフリーイラスト\n",
            "ダウンロード 93.1s\n",
            "------------------------\n",
            "54:犬のフリーアイコン｜可愛いフリーアイコン・イラストの無料素材サイト｜フリーペンシル\n",
            "ダウンロード 94.5s\n",
            "------------------------\n",
            "55:25,475件の「秋田犬」の画像、写真素材、ベクター画像 | Shutterstock\n",
            "ダウンロード 95.8s\n",
            "------------------------\n",
            "56:犬 | フリー素材ドットコム\n",
            "ダウンロード 97.1s\n",
            "------------------------\n",
            "57:秋田犬 写真素材 [ 572783 ] - フォトライブラリー photolibrary\n",
            "ダウンロード 98.6s\n",
            "------------------------\n",
            "58:ベトナムのハノイで犬肉を食べてみた｜写真と感想つき│株式会社MORE UP BOOST\n",
            "ダウンロード 99.8s\n",
            "------------------------\n",
            "59:犬の写真素材｜写真素材なら「写真AC」無料（フリー）ダウンロードOK\n",
            "ダウンロード 101.1s\n",
            "------------------------\n",
            "60:ゆんフリー写真素材集 : No. 3813 老犬の午睡 [日本 / 熊本]\n",
            "****** requests エラー(406 Client Error: Not Acceptable for url: http://www.tmyun.com/mid/yun_3813.jpg):1/3\n",
            "****** requests エラー(406 Client Error: Not Acceptable for url: http://www.tmyun.com/mid/yun_3813.jpg):2/3\n",
            "****** requests エラー(406 Client Error: Not Acceptable for url: http://www.tmyun.com/mid/yun_3813.jpg):3/3\n",
            "ダウンロード 106.5s\n",
            "------------------------\n",
            "61:かわいい犬猫写真のフリー素材（商用利用可能） - オドフラン ～いつもどこかに「なるほど」を～\n",
            "ダウンロード 107.9s\n",
            "------------------------\n",
            "62:10000以上の無料子犬&犬画像 - Pixabay\n",
            "ダウンロード 109.2s\n",
            "------------------------\n",
            "63:23,754+以上の無料犬画像\n",
            "ダウンロード 110.5s\n",
            "------------------------\n",
            "64:ドッグランで野原を飼い主と散歩する犬[10132105252]の写真素材・イラスト素材｜アマナイメージズ\n",
            "ダウンロード 111.7s\n",
            "------------------------\n",
            "65:無料写真素材 ペット画像・子犬画像・フリー素材\n",
            "***** urlチェック:1/3\n",
            "***** urlチェック:2/3\n",
            "***** urlチェック:3/3\n",
            "***** urlに拡張子が含まれていないのでキャンセル\n",
            "https://encrypted-tbn0.gstatic.com/images?q=tbn:ANd9GcS2MI-hxGON0t1weQhZ6HdOfI-Xl3NYW7yR3Q&usqp=CAU\n",
            "65:犬・チワワ04 | 無料の高画質フリー写真素材 | イメージズラボ\n",
            "ダウンロード 114.5s\n",
            "------------------------\n",
            "66:楽しそうな散歩中の犬 | 写真・画像のフリー素材を無料ダウンロードするなら「エルーパフォトス」\n",
            "ダウンロード 115.9s\n",
            "------------------------\n",
            "67:良い犬の話 | 泣ける話や感動の実話、号泣するストーリーまとめ - ラクリマ\n",
            "ダウンロード 117.1s\n",
            "------------------------\n",
            "68:商用可・無料の犬 の フリー イラスト｜テラ合同会社\n",
            "ダウンロード 118.6s\n",
            "------------------------\n",
            "69:犬の写真素材｜写真素材なら「写真AC」無料（フリー）ダウンロードOK\n",
            "ダウンロード 119.8s\n",
            "------------------------\n",
            "70:犬にも”バリアフリー”の住環境を シニア犬が過ごしやすい暮らしとは｜いぬのきもちWEB MAGAZINE\n",
            "ダウンロード 121.1s\n",
            "------------------------\n",
            "71:犬のフリー素材・無料の写真| ピクト缶\n",
            "ダウンロード 122.6s\n",
            "------------------------\n",
            "72:10000以上の無料子犬&犬画像 - Pixabay\n",
            "ダウンロード 123.8s\n",
            "------------------------\n",
            "73:FigaroHouseオリジナル 犬イラストWebフリー素材配布コーナー : FigaroHouse | チワワ イラスト, 犬のスケッチ, 動物を描く\n",
            "ダウンロード 125.2s\n",
            "------------------------\n",
            "74:フリー写真] 木の枝を咥えて走る犬 - パブリックドメインQ：著作権フリー画像素材集\n",
            "ダウンロード 127.0s\n",
            "------------------------\n",
            "75:まとめ】可愛い犬の無料イラスト素材集｜イラストイメージ\n",
            "ダウンロード 128.8s\n",
            "------------------------\n",
            "76:舌を出すボクサー（犬）の写真素材 - ぱくたそ\n",
            "ダウンロード 130.3s\n",
            "------------------------\n",
            "77:無料イラスト かわいいフリー素材集: 秋田犬のイラスト\n",
            "ダウンロード 131.5s\n",
            "------------------------\n",
            "78:犬のフリーアイコン｜可愛いフリーアイコン・イラストの無料素材サイト｜フリーペンシル\n",
            "ダウンロード 132.9s\n",
            "------------------------\n",
            "79:犬 | フリー素材ドットコム\n",
            "ダウンロード 134.2s\n",
            "------------------------\n",
            "80:かわいいいぬの無料画像リンク集 | みんなの無料イラスト・写真\n",
            "ダウンロード 135.6s\n",
            "------------------------\n",
            "81:芝生でくつろぐMIX犬 | 無料壁紙・商用利用可の画像素材ならfotoma（フォトマ）\n",
            "ダウンロード 137.0s\n",
            "------------------------\n",
            "82:我が家の可愛い老犬 写真素材 [ 1128622 ] - フォトライブラリー photolibrary\n",
            "ダウンロード 138.5s\n",
            "------------------------\n",
            "83:犬20種類×5】著作権フリーの高解像度イラスト素材(画像100枚) - Game Material Store - BOOTH\n",
            "ダウンロード 139.9s\n",
            "------------------------\n",
            "84:犬の写真素材｜写真素材なら「写真AC」無料（フリー）ダウンロードOK\n",
            "ダウンロード 141.2s\n",
            "------------------------\n",
            "85:かわいい犬のイラスト | 無料のフリー素材 イラストエイト\n",
            "ダウンロード 142.5s\n",
            "------------------------\n",
            "86:日本犬」の画像 - 7,649 件の Stock 写真、ベクターおよびビデオ | Adobe Stock\n",
            "ダウンロード 143.8s\n",
            "------------------------\n",
            "87:公園の白い犬 スピッツのフリー写真素材 無料画像素材のプロ・フォト dog0127-023\n",
            "ダウンロード 145.3s\n",
            "------------------------\n",
            "88:威嚇する茶色の犬のフリー素材・無料の写真| ピクト缶\n",
            "ダウンロード 146.7s\n",
            "------------------------\n",
            "89:桜に囲まれてキョロキョロしている可愛い犬のフリー画像｜おしゃれなフリー写真素材：GIRLY DROP\n",
            "ダウンロード 148.0s\n",
            "------------------------\n",
            "90:Twitterの犬のフリーヘッダー画像をそのまま使えるサイズで配信中 | Time-fun.fun\n",
            "ダウンロード 151.9s\n",
            "------------------------\n",
            "91:無料写真素材 ペット画像・子犬画像・フリー素材\n",
            "***** urlチェック:1/3\n",
            "***** urlチェック:2/3\n",
            "***** urlチェック:3/3\n",
            "***** urlに拡張子が含まれていないのでキャンセル\n",
            "https://encrypted-tbn0.gstatic.com/images?q=tbn:ANd9GcQbQ9I9Uk7A9jhdND_shWEhJAQVAvckM25xbQ&usqp=CAU\n",
            "91:まとめ】可愛い犬の無料イラスト素材集｜イラストイメージ\n",
            "ダウンロード 154.5s\n",
            "------------------------\n",
            "92:小型犬（チワワ）の愛くるしい表情の写真素材 - ぱくたそ\n",
            "ダウンロード 155.9s\n",
            "------------------------\n",
            "93:フリー写真] 仲の良い犬と猫 - パブリックドメインQ：著作権フリー画像素材集\n",
            "ダウンロード 157.5s\n",
            "------------------------\n"
          ]
        }
      ]
    },
    {
      "cell_type": "markdown",
      "source": [
        "##Colabo上へダウンロードしたファイルを出力する"
      ],
      "metadata": {
        "id": "VLHqoqvKOVVt"
      }
    },
    {
      "cell_type": "code",
      "source": [
        "total=tm_end - tm_start\n",
        "total_str = f'とーたる時間:{total:.1f}s({total/60:.2f}min)'\n",
        "count_str=f'ダウンロード数:{count}'\n",
        "print(total_str)\n",
        "print(count_str)"
      ],
      "metadata": {
        "id": "DQ7H7vwpYs3P",
        "colab": {
          "base_uri": "https://localhost:8080/"
        },
        "outputId": "79bedeff-25e1-490c-d318-73299c99668d"
      },
      "execution_count": null,
      "outputs": [
        {
          "output_type": "stream",
          "name": "stdout",
          "text": [
            "とーたる時間:166.4s(2.77min)\n",
            "ダウンロード数:94\n"
          ]
        }
      ]
    },
    {
      "cell_type": "markdown",
      "source": [
        "##Google検索してダウンロードした画像のURLもテキストに保存してローカルPCへ保存する"
      ],
      "metadata": {
        "id": "49nZzAYAOfFJ"
      }
    },
    {
      "cell_type": "code",
      "source": [
        "#URLを含むテキストファイルの場所\n",
        "DIR_TMP=SAVE_DIR + '/url/'\n",
        "os.makedirs(DIR_TMP,exist_ok=True)\n",
        "path=SAVE_DIR + '/url/' + '_url.txt'\n",
        "with open( path,'w',encoding='utf-8') as f:\n",
        "  f.write(dt_date_str + '\\n')\n",
        "  f.write(total_str + '\\n')\n",
        "  f.write(count_str + '\\n')\n",
        "  f.write('\\n'.join(url_list))\n",
        "\n",
        "driver.quit()"
      ],
      "metadata": {
        "id": "Ncj18DcBiiN2"
      },
      "execution_count": null,
      "outputs": []
    },
    {
      "cell_type": "markdown",
      "source": [
        "##URLテキストと画像ファイルをローカルPCにダウンロード"
      ],
      "metadata": {
        "id": "G0NPvGJSSHyl"
      }
    },
    {
      "cell_type": "code",
      "source": [
        "!zip -r /content/img_download.zip  /content/img\n",
        "\n",
        "from google.colab import files\n",
        "files.download(\"/content/img_download.zip\")\n"
      ],
      "metadata": {
        "colab": {
          "base_uri": "https://localhost:8080/",
          "height": 1000
        },
        "id": "XAzpObhNR11S",
        "outputId": "62d9428e-da01-4ab8-ffe4-a59207e5153a"
      },
      "execution_count": null,
      "outputs": [
        {
          "output_type": "stream",
          "name": "stdout",
          "text": [
            "  adding: content/img/ (stored 0%)\n",
            "  adding: content/img/dob_/ (stored 0%)\n",
            "  adding: content/img/dob_/dog_28.jpg (deflated 0%)\n",
            "  adding: content/img/dob_/dog_78.jpg (deflated 1%)\n",
            "  adding: content/img/dob_/dog_90.jpg (deflated 5%)\n",
            "  adding: content/img/dob_/dog_79.jpg (deflated 1%)\n",
            "  adding: content/img/dob_/dog_15.jpg (deflated 1%)\n",
            "  adding: content/img/dob_/dog_62.jpg (deflated 0%)\n",
            "  adding: content/img/dob_/dog_3.jpg (deflated 0%)\n",
            "  adding: content/img/dob_/dog_85.png (deflated 4%)\n",
            "  adding: content/img/dob_/dog_71.jpg (deflated 1%)\n",
            "  adding: content/img/dob_/dog_13.png (deflated 0%)\n",
            "  adding: content/img/dob_/dog_61.jpg (deflated 0%)\n",
            "  adding: content/img/dob_/dog_58.jpg (deflated 1%)\n",
            "  adding: content/img/dob_/dog_33.jpg (deflated 1%)\n",
            "  adding: content/img/dob_/dog_30.jpg (deflated 0%)\n",
            "  adding: content/img/dob_/dog_25.jpg (deflated 1%)\n",
            "  adding: content/img/dob_/dog_86.jpg (deflated 6%)\n",
            "  adding: content/img/dob_/dog_74.jpg (deflated 0%)\n",
            "  adding: content/img/dob_/dog_10.jpg (deflated 1%)\n",
            "  adding: content/img/dob_/dog_81.jpg (deflated 1%)\n",
            "  adding: content/img/dob_/dog_56.jpg (deflated 1%)\n",
            "  adding: content/img/dob_/dog_38.jpg (deflated 1%)\n",
            "  adding: content/img/dob_/dog_24.jpg (deflated 9%)\n",
            "  adding: content/img/dob_/dog_75.png (deflated 1%)\n",
            "  adding: content/img/dob_/dog_73.jpg (deflated 1%)\n",
            "  adding: content/img/dob_/dog_80.jpg (deflated 0%)\n",
            "  adding: content/img/dob_/dog_7.jpg (deflated 0%)\n",
            "  adding: content/img/dob_/dog_91.png (stored 0%)\n",
            "  adding: content/img/dob_/dog_9.jpg (deflated 0%)\n",
            "  adding: content/img/dob_/dog_72.jpg (deflated 0%)\n",
            "  adding: content/img/dob_/dog_88.jpg (deflated 1%)\n",
            "  adding: content/img/dob_/dog_93.jpg (deflated 0%)\n",
            "  adding: content/img/dob_/dog_39.png (deflated 1%)\n",
            "  adding: content/img/dob_/dog_87.jpg (deflated 0%)\n",
            "  adding: content/img/dob_/dog_54.jpg (deflated 4%)\n",
            "  adding: content/img/dob_/dog_27.png (deflated 0%)\n",
            "  adding: content/img/dob_/dog_53.png (deflated 2%)\n",
            "  adding: content/img/dob_/dog_42.png (deflated 0%)\n",
            "  adding: content/img/dob_/dog_51.jpg (deflated 3%)\n",
            "  adding: content/img/dob_/dog_37.jpg (deflated 1%)\n",
            "  adding: content/img/dob_/dog_41.jpg (deflated 6%)\n",
            "  adding: content/img/dob_/dog_89.jpg (deflated 0%)\n",
            "  adding: content/img/dob_/dog_20.jpg (deflated 1%)\n",
            "  adding: content/img/dob_/dog_66.jpg (deflated 20%)\n",
            "  adding: content/img/dob_/dog_57.jpg (deflated 3%)\n",
            "  adding: content/img/dob_/dog_70.jpg (deflated 0%)\n",
            "  adding: content/img/dob_/dog_68.png (deflated 3%)\n",
            "  adding: content/img/dob_/dog_63.jpg (deflated 0%)\n",
            "  adding: content/img/dob_/dog_49.jpg (deflated 0%)\n",
            "  adding: content/img/dob_/dog_40.png (deflated 11%)\n",
            "  adding: content/img/dob_/dog_48.png (deflated 1%)\n",
            "  adding: content/img/dob_/dog_32.png (deflated 5%)\n",
            "  adding: content/img/dob_/dog_52.png (stored 0%)\n",
            "  adding: content/img/dob_/dog_82.jpg (deflated 0%)\n",
            "  adding: content/img/dob_/dog_35.jpg (deflated 1%)\n",
            "  adding: content/img/dob_/dog_16.jpg (deflated 1%)\n",
            "  adding: content/img/dob_/dog_67.jpg (deflated 0%)\n",
            "  adding: content/img/dob_/dog_76.jpg (deflated 0%)\n",
            "  adding: content/img/dob_/dog_21.jpg (deflated 12%)\n",
            "  adding: content/img/dob_/dog_59.jpg (deflated 0%)\n",
            "  adding: content/img/dob_/dog_84.jpg (deflated 0%)\n",
            "  adding: content/img/dob_/dog_8.jpg (deflated 1%)\n",
            "  adding: content/img/dob_/dog_69.jpg (deflated 0%)\n",
            "  adding: content/img/dob_/dog_45.jpg (deflated 0%)\n",
            "  adding: content/img/dob_/url/ (stored 0%)\n",
            "  adding: content/img/dob_/url/_url.txt (deflated 61%)\n",
            "  adding: content/img/dob_/dog_17.jpg (deflated 4%)\n",
            "  adding: content/img/dob_/dog_2.jpg (deflated 2%)\n",
            "  adding: content/img/dob_/dog_23.jpg (deflated 1%)\n",
            "  adding: content/img/dob_/dog_5.jpg (deflated 1%)\n",
            "  adding: content/img/dob_/dog_29.jpg (deflated 0%)\n",
            "  adding: content/img/dob_/dog_55.jpg (deflated 0%)\n",
            "  adding: content/img/dob_/dog_46.png (deflated 0%)\n",
            "  adding: content/img/dob_/dog_19.jpg (deflated 1%)\n",
            "  adding: content/img/dob_/dog_77.png (deflated 0%)\n",
            "  adding: content/img/dob_/dog_64.jpg (deflated 17%)\n",
            "  adding: content/img/dob_/dog_44.jpg (deflated 0%)\n",
            "  adding: content/img/dob_/dog_26.jpg (deflated 2%)\n",
            "  adding: content/img/dob_/dog_11.jpg (deflated 0%)\n",
            "  adding: content/img/dob_/dog_14.jpg (deflated 9%)\n",
            "  adding: content/img/dob_/dog_83.jpg (deflated 1%)\n",
            "  adding: content/img/dob_/dog_92.jpg (deflated 4%)\n",
            "  adding: content/img/dob_/dog_0.jpg (deflated 0%)\n",
            "  adding: content/img/dob_/dog_12.jpg (deflated 1%)\n",
            "  adding: content/img/dob_/dog_65.jpg (deflated 4%)\n",
            "  adding: content/img/dob_/dog_50.jpg (deflated 2%)\n",
            "  adding: content/img/dob_/dog_18.jpg (deflated 1%)\n",
            "  adding: content/img/dob_/dog_34.jpg (deflated 1%)\n",
            "  adding: content/img/dob_/dog_31.jpg (deflated 1%)\n",
            "  adding: content/img/dob_/dog_47.png (deflated 1%)\n",
            "  adding: content/img/dob_/dog_22.jpg (deflated 0%)\n",
            "  adding: content/img/dob_/dog_1.jpg (deflated 0%)\n",
            "  adding: content/img/dob_/dog_4.jpg (deflated 0%)\n"
          ]
        },
        {
          "output_type": "display_data",
          "data": {
            "text/plain": [
              "<IPython.core.display.Javascript object>"
            ],
            "application/javascript": [
              "\n",
              "    async function download(id, filename, size) {\n",
              "      if (!google.colab.kernel.accessAllowed) {\n",
              "        return;\n",
              "      }\n",
              "      const div = document.createElement('div');\n",
              "      const label = document.createElement('label');\n",
              "      label.textContent = `Downloading \"${filename}\": `;\n",
              "      div.appendChild(label);\n",
              "      const progress = document.createElement('progress');\n",
              "      progress.max = size;\n",
              "      div.appendChild(progress);\n",
              "      document.body.appendChild(div);\n",
              "\n",
              "      const buffers = [];\n",
              "      let downloaded = 0;\n",
              "\n",
              "      const channel = await google.colab.kernel.comms.open(id);\n",
              "      // Send a message to notify the kernel that we're ready.\n",
              "      channel.send({})\n",
              "\n",
              "      for await (const message of channel.messages) {\n",
              "        // Send a message to notify the kernel that we're ready.\n",
              "        channel.send({})\n",
              "        if (message.buffers) {\n",
              "          for (const buffer of message.buffers) {\n",
              "            buffers.push(buffer);\n",
              "            downloaded += buffer.byteLength;\n",
              "            progress.value = downloaded;\n",
              "          }\n",
              "        }\n",
              "      }\n",
              "      const blob = new Blob(buffers, {type: 'application/binary'});\n",
              "      const a = document.createElement('a');\n",
              "      a.href = window.URL.createObjectURL(blob);\n",
              "      a.download = filename;\n",
              "      div.appendChild(a);\n",
              "      a.click();\n",
              "      div.remove();\n",
              "    }\n",
              "  "
            ]
          },
          "metadata": {}
        },
        {
          "output_type": "display_data",
          "data": {
            "text/plain": [
              "<IPython.core.display.Javascript object>"
            ],
            "application/javascript": [
              "download(\"download_69ae671d-d7bf-46ac-b7c5-fca5e057eef8\", \"img_download.zip\", 23550467)"
            ]
          },
          "metadata": {}
        }
      ]
    },
    {
      "cell_type": "code",
      "source": [],
      "metadata": {
        "id": "HtEYAbNFUUhC"
      },
      "execution_count": null,
      "outputs": []
    }
  ]
}