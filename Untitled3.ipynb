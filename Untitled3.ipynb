{
  "nbformat": 4,
  "nbformat_minor": 0,
  "metadata": {
    "colab": {
      "provenance": [],
      "authorship_tag": "ABX9TyNCbcgDxKYlqOurhef9DimY",
      "include_colab_link": true
    },
    "kernelspec": {
      "name": "python3",
      "display_name": "Python 3"
    },
    "language_info": {
      "name": "python"
    }
  },
  "cells": [
    {
      "cell_type": "markdown",
      "metadata": {
        "id": "view-in-github",
        "colab_type": "text"
      },
      "source": [
        "<a href=\"https://colab.research.google.com/github/HagiwaraNorito/DeepLearning2022Late/blob/main/Untitled3.ipynb\" target=\"_parent\"><img src=\"https://colab.research.google.com/assets/colab-badge.svg\" alt=\"Open In Colab\"/></a>"
      ]
    },
    {
      "cell_type": "markdown",
      "source": [
        "##NumPyを使用する"
      ],
      "metadata": {
        "id": "vZQYjIMig5LB"
      }
    },
    {
      "cell_type": "code",
      "execution_count": 1,
      "metadata": {
        "id": "u6T4f_8YgqVC"
      },
      "outputs": [],
      "source": [
        "import numpy as np"
      ]
    },
    {
      "cell_type": "markdown",
      "source": [
        "##配列（アレイ）を作る"
      ],
      "metadata": {
        "id": "aCiH_kAThCCo"
      }
    },
    {
      "cell_type": "code",
      "source": [
        "x=np.array([1.0,2.0,3.0,4.0,5.0])\n",
        "print(x)\n",
        "x=np.array([1,2,3])\n",
        "print(x)\n",
        "print(type(x))\n",
        "\n",
        "my_list1=[1,2,3,4.5]\n",
        "my_array1=np.array(my_list1)\n",
        "\n",
        "my_list2=[10,20,30,40,50]\n",
        "my_lists=[my_list1,my_list2]\n",
        "my_lists\n",
        "\n",
        "my_array2=np.array(my_lists)\n",
        "\n",
        "my_array2\n",
        "\n",
        "#次のようにタプルで複数渡すとエラーになってしまいます\n",
        "#np.array((1,2,3),(4,5,6))\n",
        "\n"
      ],
      "metadata": {
        "colab": {
          "base_uri": "https://localhost:8080/"
        },
        "id": "pcpunrqnhBUx",
        "outputId": "57c39199-c39f-4247-eea9-6bd9ebc755e9"
      },
      "execution_count": 2,
      "outputs": [
        {
          "output_type": "stream",
          "name": "stdout",
          "text": [
            "[1. 2. 3. 4. 5.]\n",
            "[1 2 3]\n",
            "<class 'numpy.ndarray'>\n"
          ]
        },
        {
          "output_type": "stream",
          "name": "stderr",
          "text": [
            "/usr/local/lib/python3.7/dist-packages/ipykernel_launcher.py:14: VisibleDeprecationWarning: Creating an ndarray from ragged nested sequences (which is a list-or-tuple of lists-or-tuples-or ndarrays with different lengths or shapes) is deprecated. If you meant to do this, you must specify 'dtype=object' when creating the ndarray.\n",
            "  \n"
          ]
        },
        {
          "output_type": "execute_result",
          "data": {
            "text/plain": [
              "array([list([1, 2, 3, 4.5]), list([10, 20, 30, 40, 50])], dtype=object)"
            ]
          },
          "metadata": {},
          "execution_count": 2
        }
      ]
    },
    {
      "cell_type": "markdown",
      "source": [
        "##NumPy配列の形状を調べる"
      ],
      "metadata": {
        "id": "X5v4wNwikgpQ"
      }
    },
    {
      "cell_type": "code",
      "source": [
        "a=np.array([1,2,3,4])\n",
        "a.shape\n",
        "\n",
        "b=np.array([[1,2],[3,4]])\n",
        "b.shape"
      ],
      "metadata": {
        "colab": {
          "base_uri": "https://localhost:8080/"
        },
        "id": "SzscgxiokSp-",
        "outputId": "d7348e4d-1760-49af-921d-1af280978cf7"
      },
      "execution_count": 4,
      "outputs": [
        {
          "output_type": "execute_result",
          "data": {
            "text/plain": [
              "(2, 2)"
            ]
          },
          "metadata": {},
          "execution_count": 4
        }
      ]
    },
    {
      "cell_type": "markdown",
      "source": [
        "##配列の生成 arange()"
      ],
      "metadata": {
        "id": "KA9K6YlalGxP"
      }
    },
    {
      "cell_type": "code",
      "source": [
        "x=np.arange(10)\n",
        "print(x)\n",
        "\n",
        "x=np.arange(1,10).reshape(3,3)\n",
        "y=np.arange(1,10).reshape(3,3)\n",
        "\n",
        "\"\"\"\n",
        "ｘを下記のように書き換えることも可能\n",
        "x=np.reshape(x,(3,3))\n",
        "\"\"\"\n",
        "\n",
        "print(x)\n",
        "print(y)\n",
        "\n",
        "print(x + y)\n",
        "print(x - y)\n",
        "print(x * y)"
      ],
      "metadata": {
        "colab": {
          "base_uri": "https://localhost:8080/"
        },
        "id": "UVcVHdA8k86P",
        "outputId": "5d348e36-3f23-4c9a-cfd6-81e41034da56"
      },
      "execution_count": 5,
      "outputs": [
        {
          "output_type": "stream",
          "name": "stdout",
          "text": [
            "[0 1 2 3 4 5 6 7 8 9]\n",
            "[[1 2 3]\n",
            " [4 5 6]\n",
            " [7 8 9]]\n",
            "[[1 2 3]\n",
            " [4 5 6]\n",
            " [7 8 9]]\n",
            "[[ 2  4  6]\n",
            " [ 8 10 12]\n",
            " [14 16 18]]\n",
            "[[0 0 0]\n",
            " [0 0 0]\n",
            " [0 0 0]]\n",
            "[[ 1  4  9]\n",
            " [16 25 36]\n",
            " [49 64 81]]\n"
          ]
        }
      ]
    },
    {
      "cell_type": "markdown",
      "source": [
        "##配列操作"
      ],
      "metadata": {
        "id": "OXiYr0JnmEyx"
      }
    },
    {
      "cell_type": "code",
      "source": [
        "sample_array = np.arange(10)\n",
        "print(sample_array)\n",
        "\n",
        "sample_array2 = sample_array.reshape(2,5)\n",
        "print(sample_array2)\n",
        "\n",
        "# concatenateを使って、データの結合する(axisで行方向か、縦方向を指定可能)\n",
        "sample_array3 = np.array([[1,2,3],[4,5,6]])\n",
        "sample_array4 = np.array([[7,8,9],[10,11,12]])\n",
        "\n",
        "# 行方向に結合 ([[1,2,3,7,8,9],4,5,6,10,11,12]])\n",
        "print(np.concatenate([sample_array3,sample_array4],axis=1))\n",
        "\n",
        "# hstackでも行方向の結合が可能\n",
        "print(np.hstack((sample_array3,sample_array4)))\n",
        "\n",
        "\"\"\"\n",
        "axis=0で列方向\n",
        "axis=1で行方向です。\n",
        "下記URLを参考ください。\n",
        "https://qiita.com/shuetsu@github/items/2bf8bba233c5ecc7a0ad\n",
        "\"\"\"\n",
        "print(np.concatenate([sample_array3,sample_array4],axis=0))\n",
        "\n",
        "# vstackで列方向の結合が可能\n",
        "print(np.vstack((sample_array3,sample_array4)))"
      ],
      "metadata": {
        "colab": {
          "base_uri": "https://localhost:8080/"
        },
        "id": "hKkJWQzQmC8M",
        "outputId": "229b1767-4156-43e6-9b27-9f773e9db5eb"
      },
      "execution_count": 6,
      "outputs": [
        {
          "output_type": "stream",
          "name": "stdout",
          "text": [
            "[0 1 2 3 4 5 6 7 8 9]\n",
            "[[0 1 2 3 4]\n",
            " [5 6 7 8 9]]\n",
            "[[ 1  2  3  7  8  9]\n",
            " [ 4  5  6 10 11 12]]\n",
            "[[ 1  2  3  7  8  9]\n",
            " [ 4  5  6 10 11 12]]\n",
            "[[ 1  2  3]\n",
            " [ 4  5  6]\n",
            " [ 7  8  9]\n",
            " [10 11 12]]\n",
            "[[ 1  2  3]\n",
            " [ 4  5  6]\n",
            " [ 7  8  9]\n",
            " [10 11 12]]\n"
          ]
        }
      ]
    },
    {
      "cell_type": "markdown",
      "source": [
        "#＃ブロードキャスト"
      ],
      "metadata": {
        "id": "4UtHCSKGoAPc"
      }
    },
    {
      "cell_type": "code",
      "source": [
        "sample_array = np.arange(10)\n",
        "print(sample_array)\n",
        "\n",
        "print(sample_array  + 5)"
      ],
      "metadata": {
        "colab": {
          "base_uri": "https://localhost:8080/"
        },
        "id": "UOyupMYvn_CD",
        "outputId": "f7ebcd3d-dadf-4245-f80e-50fda6aea027"
      },
      "execution_count": 7,
      "outputs": [
        {
          "output_type": "stream",
          "name": "stdout",
          "text": [
            "[0 1 2 3 4 5 6 7 8 9]\n",
            "[ 5  6  7  8  9 10 11 12 13 14]\n"
          ]
        }
      ]
    },
    {
      "cell_type": "markdown",
      "source": [
        "##多次元配列の計算"
      ],
      "metadata": {
        "id": "E8IozotsoW_f"
      }
    },
    {
      "cell_type": "code",
      "source": [
        "n1=np.array([1,2,3,4,5])\n",
        "print(n1)\n",
        "\n",
        "np.ndim(n1)\n",
        "\n",
        "n1.shape\n",
        "\n",
        "\"\"\"\n",
        "2次元配列 (5,3)\n",
        "\n",
        "3次元配列 (5,5,4)\n",
        "\n",
        "1次元でも2次元でも、同様にタプルで結果が返される。\n",
        "\"\"\"\n",
        "# 3行2列の配列（2次元の配列）を作成\n",
        "\"\"\"\n",
        "2次元配列は行列のことを意味します。\n",
        "3 × 2 の配列は、最初の次元に3つ要素があり、\n",
        "次の次元に2つの要素があるという意味。\n",
        "\n",
        "行(row) 配列の横方向\n",
        "列(column) 配列の縦方向\n",
        "\"\"\"\n",
        "\n",
        "n2=np.array([[1,2],[3,4],[5,6]])\n",
        "print(n2)\n",
        "\n",
        "print(n2.ndim)"
      ],
      "metadata": {
        "colab": {
          "base_uri": "https://localhost:8080/"
        },
        "id": "2pWlwj_xoVcK",
        "outputId": "1f31e9b0-12d9-40ac-b476-11f962594f14"
      },
      "execution_count": 8,
      "outputs": [
        {
          "output_type": "stream",
          "name": "stdout",
          "text": [
            "[1 2 3 4 5]\n",
            "[[1 2]\n",
            " [3 4]\n",
            " [5 6]]\n",
            "2\n"
          ]
        }
      ]
    },
    {
      "cell_type": "markdown",
      "source": [
        "#＃行列とは"
      ],
      "metadata": {
        "id": "4f7Q8uZLpJ4H"
      }
    },
    {
      "cell_type": "code",
      "source": [
        "my_li1=[-1,4]\n",
        "\n",
        "my_li2 = [3,2]\n",
        "\n",
        "my_li3 = [2,5]\n",
        "\n",
        "my_li4=[0,1]\n",
        "\n",
        "my_lists=[my_li1,my_li2,my_li3,my_li4]\n",
        "\n",
        "my_array3 = np.array(my_lists)\n",
        "\n",
        "\n",
        "\"\"\"\n",
        "array([[-1,  4],\n",
        "       [ 3,  2],\n",
        "       [ 2,  5],\n",
        "       [ 0,  1]])\n",
        "\"\"\"\n",
        "my_array3\n"
      ],
      "metadata": {
        "colab": {
          "base_uri": "https://localhost:8080/"
        },
        "id": "hSKvRpexpITg",
        "outputId": "3acec239-2dac-4246-d8a3-f67e8dbf8057"
      },
      "execution_count": 10,
      "outputs": [
        {
          "output_type": "execute_result",
          "data": {
            "text/plain": [
              "array([[-1,  4],\n",
              "       [ 3,  2],\n",
              "       [ 2,  5],\n",
              "       [ 0,  1]])"
            ]
          },
          "metadata": {},
          "execution_count": 10
        }
      ]
    },
    {
      "cell_type": "code",
      "source": [],
      "metadata": {
        "id": "yYZp3MF8p5cT"
      },
      "execution_count": null,
      "outputs": []
    }
  ]
}