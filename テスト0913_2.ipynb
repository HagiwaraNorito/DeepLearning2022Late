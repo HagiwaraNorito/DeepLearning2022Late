{
  "nbformat": 4,
  "nbformat_minor": 0,
  "metadata": {
    "colab": {
      "provenance": [],
      "collapsed_sections": [],
      "authorship_tag": "ABX9TyNswfaFs4BCDvXdO/oHE1Ff",
      "include_colab_link": true
    },
    "kernelspec": {
      "name": "python3",
      "display_name": "Python 3"
    },
    "language_info": {
      "name": "python"
    }
  },
  "cells": [
    {
      "cell_type": "markdown",
      "metadata": {
        "id": "view-in-github",
        "colab_type": "text"
      },
      "source": [
        "<a href=\"https://colab.research.google.com/github/HagiwaraNorito/DeepLearning2022Late/blob/main/%E3%83%86%E3%82%B9%E3%83%880913_2.ipynb\" target=\"_parent\"><img src=\"https://colab.research.google.com/assets/colab-badge.svg\" alt=\"Open In Colab\"/></a>"
      ]
    },
    {
      "cell_type": "markdown",
      "source": [
        "## 辞書型（dictionary)\n",
        "キーと値のペアで管理する\n"
      ],
      "metadata": {
        "id": "Md9ST7lby9ez"
      }
    },
    {
      "cell_type": "code",
      "execution_count": 1,
      "metadata": {
        "colab": {
          "base_uri": "https://localhost:8080/"
        },
        "id": "BfyB0zbkyeaR",
        "outputId": "51aee59f-09e1-487e-c4e3-3baafec0030a"
      },
      "outputs": [
        {
          "output_type": "stream",
          "name": "stdout",
          "text": [
            "{'アップル': 1, 'ペン': 2, 'パイナップル': 3}\n",
            "2\n"
          ]
        }
      ],
      "source": [
        "#{'キーワード':値,'キーワード':値}でデータを管理\n",
        "dict={'アップル':1,'ペン':2,'パイナップル':3}\n",
        "print(dict)\n",
        "print(dict['ペン'])"
      ]
    },
    {
      "cell_type": "markdown",
      "source": [
        "##辞書型の追加・削除・更新"
      ],
      "metadata": {
        "id": "APaRfnAI1EMH"
      }
    },
    {
      "cell_type": "code",
      "source": [
        "print(dict)\n",
        "print(dict.keys())\n",
        "print(dict.values())"
      ],
      "metadata": {
        "colab": {
          "base_uri": "https://localhost:8080/"
        },
        "id": "LjReheC11DXb",
        "outputId": "ef33b602-ecfe-4e10-caae-2eac642abf47"
      },
      "execution_count": 2,
      "outputs": [
        {
          "output_type": "stream",
          "name": "stdout",
          "text": [
            "{'アップル': 1, 'ペン': 2, 'パイナップル': 3}\n",
            "dict_keys(['アップル', 'ペン', 'パイナップル'])\n",
            "dict_values([1, 2, 3])\n"
          ]
        }
      ]
    },
    {
      "cell_type": "code",
      "source": [
        "print(dict)\n",
        "dict['バナナ']=5\n",
        "print(dict)\n",
        "dict['バナナ']=100\n",
        "print(dict)\n",
        "dict.pop('バナナ')\n",
        "print(dict)"
      ],
      "metadata": {
        "colab": {
          "base_uri": "https://localhost:8080/"
        },
        "id": "SSLAV-lK1ztQ",
        "outputId": "e2c136d3-6434-4801-9e63-b573cab8b0af"
      },
      "execution_count": 3,
      "outputs": [
        {
          "output_type": "stream",
          "name": "stdout",
          "text": [
            "{'アップル': 1, 'ペン': 2, 'パイナップル': 3}\n",
            "{'アップル': 1, 'ペン': 2, 'パイナップル': 3, 'バナナ': 5}\n",
            "{'アップル': 1, 'ペン': 2, 'パイナップル': 3, 'バナナ': 100}\n",
            "{'アップル': 1, 'ペン': 2, 'パイナップル': 3}\n"
          ]
        }
      ]
    },
    {
      "cell_type": "markdown",
      "source": [
        "## 文字列の整形\n",
        "文字列の連結と繰り返し"
      ],
      "metadata": {
        "id": "TZVQDMdw4ug6"
      }
    },
    {
      "cell_type": "markdown",
      "source": [],
      "metadata": {
        "id": "RY-D94g09JPc"
      }
    },
    {
      "cell_type": "code",
      "source": [
        "#連結方法①\n",
        "apple='アップル'\n",
        "pen='ペン'\n",
        "print(apple + pen)\n",
        "#連結方法②\n",
        "piko=['ペン','アップル','ペン','パイナップル']\n",
        "#printメソッドで連結して表示\n",
        "print(','.join(piko))\n",
        "#回数を指定してメッセージを表示\n",
        "pon='ポン'\n",
        "print(pon * 3)\n"
      ],
      "metadata": {
        "colab": {
          "base_uri": "https://localhost:8080/"
        },
        "id": "UnnMTk8g4tyP",
        "outputId": "eec2e7c5-542c-423f-9f03-4c70e9a82f86"
      },
      "execution_count": 4,
      "outputs": [
        {
          "output_type": "stream",
          "name": "stdout",
          "text": [
            "アップルペン\n",
            "ペン,アップル,ペン,パイナップル\n",
            "ポンポンポン\n"
          ]
        }
      ]
    },
    {
      "cell_type": "markdown",
      "source": [
        "#【重要】文字列の整形（フォーマット）"
      ],
      "metadata": {
        "id": "fUmx2BqD7geH"
      }
    },
    {
      "cell_type": "code",
      "source": [
        "#定型で指定した形のメッセージにする\n",
        "print('{}{]:{}円')\n",
        "print('{}{]:{}円'.format('アップル','ペン',100))\n",
        "print('{1}{2]:{0}円'.format(100,'アップル','ペン'))"
      ],
      "metadata": {
        "colab": {
          "base_uri": "https://localhost:8080/",
          "height": 240
        },
        "id": "4jzW5YpI7fNr",
        "outputId": "f60537c0-dc73-43d3-869e-e95b353065c5"
      },
      "execution_count": 7,
      "outputs": [
        {
          "output_type": "stream",
          "name": "stdout",
          "text": [
            "{}{]:{}円\n"
          ]
        },
        {
          "output_type": "error",
          "ename": "ValueError",
          "evalue": "ignored",
          "traceback": [
            "\u001b[0;31m---------------------------------------------------------------------------\u001b[0m",
            "\u001b[0;31mValueError\u001b[0m                                Traceback (most recent call last)",
            "\u001b[0;32m<ipython-input-7-2cdfdb6c94d4>\u001b[0m in \u001b[0;36m<module>\u001b[0;34m\u001b[0m\n\u001b[1;32m      1\u001b[0m \u001b[0;31m#定型で指定した形のメッセージにする\u001b[0m\u001b[0;34m\u001b[0m\u001b[0;34m\u001b[0m\u001b[0;34m\u001b[0m\u001b[0m\n\u001b[1;32m      2\u001b[0m \u001b[0mprint\u001b[0m\u001b[0;34m(\u001b[0m\u001b[0;34m'{}{]:{}円'\u001b[0m\u001b[0;34m)\u001b[0m\u001b[0;34m\u001b[0m\u001b[0;34m\u001b[0m\u001b[0m\n\u001b[0;32m----> 3\u001b[0;31m \u001b[0mprint\u001b[0m\u001b[0;34m(\u001b[0m\u001b[0;34m'{}{]:{}円'\u001b[0m\u001b[0;34m.\u001b[0m\u001b[0mformat\u001b[0m\u001b[0;34m(\u001b[0m\u001b[0;34m'アップル'\u001b[0m\u001b[0;34m,\u001b[0m\u001b[0;34m'ペン'\u001b[0m\u001b[0;34m,\u001b[0m\u001b[0;36m100\u001b[0m\u001b[0;34m)\u001b[0m\u001b[0;34m)\u001b[0m\u001b[0;34m\u001b[0m\u001b[0;34m\u001b[0m\u001b[0m\n\u001b[0m\u001b[1;32m      4\u001b[0m \u001b[0mprint\u001b[0m\u001b[0;34m(\u001b[0m\u001b[0;34m'{1}{2]:{0}円'\u001b[0m\u001b[0;34m.\u001b[0m\u001b[0mformat\u001b[0m\u001b[0;34m(\u001b[0m\u001b[0;36m100\u001b[0m\u001b[0;34m,\u001b[0m\u001b[0;34m'アップル'\u001b[0m\u001b[0;34m,\u001b[0m\u001b[0;34m'ペン'\u001b[0m\u001b[0;34m)\u001b[0m\u001b[0;34m)\u001b[0m\u001b[0;34m\u001b[0m\u001b[0;34m\u001b[0m\u001b[0m\n",
            "\u001b[0;31mValueError\u001b[0m: unmatched '{' in format spec"
          ]
        }
      ]
    },
    {
      "cell_type": "markdown",
      "source": [
        "#コレクション演算\n",
        "リスト、タプル、順番がある集合のことをシーケンスと言う。\n",
        "順番がない集合を集合型（セット）という。\n",
        "上記2種類をまとめてコレクションという。コレクションは共通の演算が使えるlen（長さ、量を取得）、max（最大値を取得）、min（最小値を取得）など"
      ],
      "metadata": {
        "id": "azWVdxdPXYre"
      }
    },
    {
      "cell_type": "code",
      "source": [
        "list=[1,1,2,3,4,5]\n",
        "tuple=(10,9,7,7,8,8,9)\n",
        "set={1,-2,3,-4,5,-6,7,-8}\n",
        "print(len(tuple),max(tuple),min(list))\n",
        "print(len(list),max(list),min(list))\n",
        "print(len(set),max(set),min(set))"
      ],
      "metadata": {
        "id": "FUmx8N0U89NW",
        "colab": {
          "base_uri": "https://localhost:8080/"
        },
        "outputId": "d709ede0-466e-481c-ae51-5a0efc11f8af"
      },
      "execution_count": 9,
      "outputs": [
        {
          "output_type": "stream",
          "name": "stdout",
          "text": [
            "7 10 1\n",
            "6 5 1\n",
            "8 7 -8\n"
          ]
        }
      ]
    },
    {
      "cell_type": "code",
      "source": [],
      "metadata": {
        "id": "j8XhettZZKPI"
      },
      "execution_count": null,
      "outputs": []
    }
  ]
}